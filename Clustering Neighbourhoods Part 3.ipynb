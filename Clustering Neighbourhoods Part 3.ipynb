{
    "cells": [
        {
            "cell_type": "markdown",
            "metadata": {},
            "source": "# Coursera Capstone Project - Parts 1 and 3"
        },
        {
            "cell_type": "markdown",
            "metadata": {},
            "source": "## Let's see Part 1 First"
        },
        {
            "cell_type": "markdown",
            "metadata": {
                "collapsed": true
            },
            "source": "# Part 1 - Converting Wikipedia html table into a DataFrame"
        },
        {
            "cell_type": "code",
            "execution_count": 1,
            "metadata": {},
            "outputs": [],
            "source": "from bs4 import BeautifulSoup as bsoup\nfrom urllib.request import urlopen as uReq\nimport requests\nimport lxml\nimport pandas as pd\nfrom pandas import DataFrame\nimport numpy as np"
        },
        {
            "cell_type": "code",
            "execution_count": 2,
            "metadata": {},
            "outputs": [],
            "source": "my_url='https://en.wikipedia.org/wiki/List_of_postal_codes_of_Canada:_M'"
        },
        {
            "cell_type": "code",
            "execution_count": 3,
            "metadata": {},
            "outputs": [],
            "source": "r=requests.get(my_url)"
        },
        {
            "cell_type": "markdown",
            "metadata": {},
            "source": "## Parsing the web html file with BeautifulSoup package"
        },
        {
            "cell_type": "code",
            "execution_count": 4,
            "metadata": {},
            "outputs": [
                {
                    "data": {
                        "text/plain": "\n<!DOCTYPE html>\n\n<html class=\"client-nojs\" dir=\"ltr\" lang=\"en\">\n<head>\n<meta charset=\"utf-8\"/>\n<title>List of postal codes of Canada: M - Wikipedia</title>\n<script>document.documentElement.className=\"client-js\";RLCONF={\"wgBreakFrames\":!1,\"wgSeparatorTransformTable\":[\"\",\"\"],\"wgDigitTransformTable\":[\"\",\"\"],\"wgDefaultDateFormat\":\"dmy\",\"wgMonthNames\":[\"\",\"January\",\"February\",\"March\",\"April\",\"May\",\"June\",\"July\",\"August\",\"September\",\"October\",\"November\",\"December\"],\"wgRequestId\":\"3f996570-256b-4f45-92a3-87ba6c847372\",\"wgCSPNonce\":!1,\"wgCanonicalNamespace\":\"\",\"wgCanonicalSpecialPageName\":!1,\"wgNamespaceNumber\":0,\"wgPageName\":\"List_of_postal_codes_of_Canada:_M\",\"wgTitle\":\"List of postal codes of Canada: M\",\"wgCurRevisionId\":960187814,\"wgRevisionId\":960187814,\"wgArticleId\":539066,\"wgIsArticle\":!0,\"wgIsRedirect\":!1,\"wgAction\":\"view\",\"wgUserName\":null,\"wgUserGroups\":[\"*\"],\"wgCategories\":[\"Articles with short description\",\"Communications in Ontario\",\"Postal codes in Canada\",\"Toronto\",\"Ontario-related lists\"],\"wgPageContentLanguage\":\"en\",\"wgPageContentModel\":\"wikitext\",\"wgRelevantPageName\":\"List_of_postal_codes_of_Canada:_M\",\n\"wgRelevantArticleId\":539066,\"wgIsProbablyEditable\":!0,\"wgRelevantPageIsProbablyEditable\":!0,\"wgRestrictionEdit\":[],\"wgRestrictionMove\":[],\"wgMediaViewerOnClick\":!0,\"wgMediaViewerEnabledByDefault\":!0,\"wgPopupsReferencePreviews\":!1,\"wgPopupsConflictsWithNavPopupGadget\":!1,\"wgVisualEditor\":{\"pageLanguageCode\":\"en\",\"pageLanguageDir\":\"ltr\",\"pageVariantFallbacks\":\"en\"},\"wgMFDisplayWikibaseDescriptions\":{\"search\":!0,\"nearby\":!0,\"watchlist\":!0,\"tagline\":!1},\"wgWMESchemaEditAttemptStepOversample\":!1,\"wgULSCurrentAutonym\":\"English\",\"wgNoticeProject\":\"wikipedia\",\"wgWikibaseItemId\":\"Q3248240\",\"wgCentralAuthMobileDomain\":!1,\"wgEditSubmitButtonLabelPublish\":!0};RLSTATE={\"ext.globalCssJs.user.styles\":\"ready\",\"site.styles\":\"ready\",\"noscript\":\"ready\",\"user.styles\":\"ready\",\"ext.globalCssJs.user\":\"ready\",\"user\":\"ready\",\"user.options\":\"loading\",\"ext.cite.styles\":\"ready\",\"jquery.tablesorter.styles\":\"ready\",\"skins.vector.styles.legacy\":\"ready\",\"wikibase.client.init\":\"ready\",\n\"ext.visualEditor.desktopArticleTarget.noscript\":\"ready\",\"ext.uls.interlanguage\":\"ready\",\"ext.wikimediaBadges\":\"ready\"};RLPAGEMODULES=[\"ext.cite.ux-enhancements\",\"site\",\"mediawiki.page.startup\",\"mediawiki.page.ready\",\"jquery.tablesorter\",\"skins.vector.legacy.js\",\"ext.gadget.ReferenceTooltips\",\"ext.gadget.charinsert\",\"ext.gadget.refToolbar\",\"ext.gadget.extra-toolbar-buttons\",\"ext.gadget.switcher\",\"ext.centralauth.centralautologin\",\"mmv.head\",\"mmv.bootstrap.autostart\",\"ext.popups\",\"ext.visualEditor.desktopArticleTarget.init\",\"ext.visualEditor.targetLoader\",\"ext.eventLogging\",\"ext.wikimediaEvents\",\"ext.navigationTiming\",\"ext.uls.compactlinks\",\"ext.uls.interface\",\"ext.cx.eventlogging.campaigns\",\"ext.quicksurveys.init\",\"ext.centralNotice.geoIP\",\"ext.centralNotice.startUp\"];</script>\n<script>(RLQ=window.RLQ||[]).push(function(){mw.loader.implement(\"user.options@1hzgi\",function($,jQuery,require,module){/*@nomin*/mw.user.tokens.set({\"patrolToken\":\"+\\\\\",\"watchToken\":\"+\\\\\",\"csrfToken\":\"+\\\\\"});\n});});</script>\n<link href=\"/w/load.php?lang=en&amp;modules=ext.cite.styles%7Cext.uls.interlanguage%7Cext.visualEditor.desktopArticleTarget.noscript%7Cext.wikimediaBadges%7Cjquery.tablesorter.styles%7Cskins.vector.styles.legacy%7Cwikibase.client.init&amp;only=styles&amp;skin=vector\" rel=\"stylesheet\"/>\n<script async=\"\" src=\"/w/load.php?lang=en&amp;modules=startup&amp;only=scripts&amp;raw=1&amp;skin=vector\"></script>\n<meta content=\"\" name=\"ResourceLoaderDynamicStyles\"/>\n<link href=\"/w/load.php?lang=en&amp;modules=site.styles&amp;only=styles&amp;skin=vector\" rel=\"stylesheet\"/>\n<meta content=\"MediaWiki 1.35.0-wmf.36\" name=\"generator\"/>\n<meta content=\"origin\" name=\"referrer\"/>\n<meta content=\"origin-when-crossorigin\" name=\"referrer\"/>\n<meta content=\"origin-when-cross-origin\" name=\"referrer\"/>\n<link href=\"/w/index.php?title=List_of_postal_codes_of_Canada:_M&amp;action=edit\" rel=\"alternate\" title=\"Edit this page\" type=\"application/x-wiki\"/>\n<link href=\"/w/index.php?title=List_of_postal_codes_of_Canada:_M&amp;action=edit\" rel=\"edit\" title=\"Edit this page\"/>\n<link href=\"/static/apple-touch/wikipedia.png\" rel=\"apple-touch-icon\"/>\n<link href=\"/static/favicon/wikipedia.ico\" rel=\"shortcut icon\"/>\n<link href=\"/w/opensearch_desc.php\" rel=\"search\" title=\"Wikipedia (en)\" type=\"application/opensearchdescription+xml\"/>\n<link href=\"//en.wikipedia.org/w/api.php?action=rsd\" rel=\"EditURI\" type=\"application/rsd+xml\"/>\n<link href=\"//creativecommons.org/licenses/by-sa/3.0/\" rel=\"license\"/>\n<link href=\"/w/index.php?title=Special:RecentChanges&amp;feed=atom\" rel=\"alternate\" title=\"Wikipedia Atom feed\" type=\"application/atom+xml\"/>\n<link href=\"https://en.wikipedia.org/wiki/List_of_postal_codes_of_Canada:_M\" rel=\"canonical\"/>\n<link href=\"//login.wikimedia.org\" rel=\"dns-prefetch\"/>\n<link href=\"//meta.wikimedia.org\" rel=\"dns-prefetch\"/>\n<!--[if lt IE 9]><script src=\"/w/resources/lib/html5shiv/html5shiv.js\"></script><![endif]-->\n</head>\n<body class=\"mediawiki ltr sitedir-ltr mw-hide-empty-elt ns-0 ns-subject mw-editable page-List_of_postal_codes_of_Canada_M rootpage-List_of_postal_codes_of_Canada_M skin-vector action-view skin-vector-legacy\">\n<div class=\"noprint\" id=\"mw-page-base\"></div>\n<div class=\"noprint\" id=\"mw-head-base\"></div>\n<div class=\"mw-body\" id=\"content\" role=\"main\">\n<a id=\"top\"></a>\n<div class=\"mw-body-content\" id=\"siteNotice\"><!-- CentralNotice --></div>\n<div class=\"mw-indicators mw-body-content\">\n</div>\n<h1 class=\"firstHeading\" id=\"firstHeading\" lang=\"en\">List of postal codes of Canada: M</h1>\n<div class=\"mw-body-content\" id=\"bodyContent\">\n<div class=\"noprint\" id=\"siteSub\">From Wikipedia, the free encyclopedia</div>\n<div id=\"contentSub\"></div>\n<div id=\"jump-to-nav\"></div>\n<a class=\"mw-jump-link\" href=\"#mw-head\">Jump to navigation</a>\n<a class=\"mw-jump-link\" href=\"#p-search\">Jump to search</a>\n<div class=\"mw-content-ltr\" dir=\"ltr\" id=\"mw-content-text\" lang=\"en\"><div class=\"mw-parser-output\"><div class=\"shortdescription nomobile noexcerpt noprint searchaux\" style=\"display:none\">Wikipedia list article</div>\n<p>This is a list of <a href=\"/wiki/Postal_codes_in_Canada\" title=\"Postal codes in Canada\">postal codes in Canada</a> where the first letter is M. Postal codes beginning with M are located within the city of <a href=\"/wiki/Toronto\" title=\"Toronto\">Toronto</a> in the province of <a href=\"/wiki/Ontario\" title=\"Ontario\">Ontario</a>. Only the first three characters are listed, corresponding to the Forward Sortation Area.\n</p><p><a href=\"/wiki/Canada_Post\" title=\"Canada Post\">Canada Post</a> provides a free postal code look-up tool on its website,<sup class=\"reference\" id=\"cite_ref-1\"><a href=\"#cite_note-1\">[1]</a></sup> via its <a href=\"/wiki/Mobile_app\" title=\"Mobile app\">applications</a> for such <a class=\"mw-redirect\" href=\"/wiki/Smartphones\" title=\"Smartphones\">smartphones</a> as the <a href=\"/wiki/IPhone\" title=\"IPhone\">iPhone</a> and <a href=\"/wiki/BlackBerry\" title=\"BlackBerry\">BlackBerry</a>,<sup class=\"reference\" id=\"cite_ref-2\"><a href=\"#cite_note-2\">[2]</a></sup>  and sells hard-copy directories and <a href=\"/wiki/CD-ROM\" title=\"CD-ROM\">CD-ROMs</a>. Many vendors also sell validation tools, which allow customers to properly match addresses and postal codes. Hard-copy directories can also be consulted in all post offices, and some libraries.\n</p>\n<h2><span class=\"mw-headline\" id=\"Toronto_-_103_FSAs\"><a href=\"/wiki/Toronto\" title=\"Toronto\">Toronto</a> - 103 <a href=\"/wiki/Postal_codes_in_Canada#Forward_sortation_areas\" title=\"Postal codes in Canada\">FSAs</a></span><span class=\"mw-editsection\"><span class=\"mw-editsection-bracket\">[</span><a href=\"/w/index.php?title=List_of_postal_codes_of_Canada:_M&amp;action=edit&amp;section=1\" title=\"Edit section: Toronto - 103 FSAs\">edit</a><span class=\"mw-editsection-bracket\">]</span></span></h2>\n<p>Note: There are no rural FSAs in Toronto, hence no postal codes should start with M0. However, the postal code M0R 8T0 is assigned to an <a href=\"/wiki/Amazon_(company)\" title=\"Amazon (company)\">Amazon</a> warehouse in Mississauga, suggesting that Canada Post may have reserved the M0 FSA for high volume addresses.\n</p>\n<table class=\"wikitable sortable\">\n<tbody><tr>\n<th>Postal Code\n</th>\n<th>Borough\n</th>\n<th>Neighborhood\n</th></tr>\n<tr>\n<td>M1A\n</td>\n<td>Not assigned\n</td>\n<td>Not assigned\n</td></tr>\n<tr>\n<td>M2A\n</td>\n<td>Not assigned\n</td>\n<td>Not assigned\n</td></tr>\n<tr>\n<td>M3A\n</td>\n<td>North York\n</td>\n<td>Parkwoods\n</td></tr>\n<tr>\n<td>M4A\n</td>\n<td>North York\n</td>\n<td>Victoria Village\n</td></tr>\n<tr>\n<td>M5A\n</td>\n<td>Downtown Toronto\n</td>\n<td>Regent Park, Harbourfront\n</td></tr>\n<tr>\n<td>M6A\n</td>\n<td>North York\n</td>\n<td>Lawrence Manor, Lawrence Heights\n</td></tr>\n<tr>\n<td>M7A\n</td>\n<td>Downtown Toronto\n</td>\n<td>Queen's Park, Ontario Provincial Government\n</td></tr>\n<tr>\n<td>M8A\n</td>\n<td>Not assigned\n</td>\n<td>Not assigned\n</td></tr>\n<tr>\n<td>M9A\n</td>\n<td>Etobicoke\n</td>\n<td>Islington Avenue, Humber Valley Village\n</td></tr>\n<tr>\n<td>M1B\n</td>\n<td>Scarborough\n</td>\n<td>Malvern, Rouge\n</td></tr>\n<tr>\n<td>M2B\n</td>\n<td>Not assigned\n</td>\n<td>Not assigned\n</td></tr>\n<tr>\n<td>M3B\n</td>\n<td>North York\n</td>\n<td>Don Mills\n</td></tr>\n<tr>\n<td>M4B\n</td>\n<td>East York\n</td>\n<td>Parkview Hill, Woodbine Gardens\n</td></tr>\n<tr>\n<td>M5B\n</td>\n<td>Downtown Toronto\n</td>\n<td>Garden District, Ryerson\n</td></tr>\n<tr>\n<td>M6B\n</td>\n<td>North York\n</td>\n<td>Glencairn\n</td></tr>\n<tr>\n<td>M7B\n</td>\n<td>Not assigned\n</td>\n<td>Not assigned\n</td></tr>\n<tr>\n<td>M8B\n</td>\n<td>Not assigned\n</td>\n<td>Not assigned\n</td></tr>\n<tr>\n<td>M9B\n</td>\n<td>Etobicoke\n</td>\n<td>West Deane Park, Princess Gardens, Martin Grove, Islington, Cloverdale\n</td></tr>\n<tr>\n<td>M1C\n</td>\n<td>Scarborough\n</td>\n<td>Rouge Hill, Port Union, Highland Creek\n</td></tr>\n<tr>\n<td>M2C\n</td>\n<td>Not assigned\n</td>\n<td>Not assigned\n</td></tr>\n<tr>\n<td>M3C\n</td>\n<td>North York\n</td>\n<td>Don Mills\n</td></tr>\n<tr>\n<td>M4C\n</td>\n<td>East York\n</td>\n<td>Woodbine Heights\n</td></tr>\n<tr>\n<td>M5C\n</td>\n<td>Downtown Toronto\n</td>\n<td>St. James Town\n</td></tr>\n<tr>\n<td>M6C\n</td>\n<td>York\n</td>\n<td>Humewood-Cedarvale\n</td></tr>\n<tr>\n<td>M7C\n</td>\n<td>Not assigned\n</td>\n<td>Not assigned\n</td></tr>\n<tr>\n<td>M8C\n</td>\n<td>Not assigned\n</td>\n<td>Not assigned\n</td></tr>\n<tr>\n<td>M9C\n</td>\n<td>Etobicoke\n</td>\n<td>Eringate, Bloordale Gardens, Old Burnhamthorpe, Markland Wood\n</td></tr>\n<tr>\n<td>M1E\n</td>\n<td>Scarborough\n</td>\n<td>Guildwood, Morningside, West Hill\n</td></tr>\n<tr>\n<td>M2E\n</td>\n<td>Not assigned\n</td>\n<td>Not assigned\n</td></tr>\n<tr>\n<td>M3E\n</td>\n<td>Not assigned\n</td>\n<td>Not assigned\n</td></tr>\n<tr>\n<td>M4E\n</td>\n<td>East Toronto\n</td>\n<td>The Beaches\n</td></tr>\n<tr>\n<td>M5E\n</td>\n<td>Downtown Toronto\n</td>\n<td>Berczy Park\n</td></tr>\n<tr>\n<td>M6E\n</td>\n<td>York\n</td>\n<td>Caledonia-Fairbanks\n</td></tr>\n<tr>\n<td>M7E\n</td>\n<td>Not assigned\n</td>\n<td>Not assigned\n</td></tr>\n<tr>\n<td>M8E\n</td>\n<td>Not assigned\n</td>\n<td>Not assigned\n</td></tr>\n<tr>\n<td>M9E\n</td>\n<td>Not assigned\n</td>\n<td>Not assigned\n</td></tr>\n<tr>\n<td>M1G\n</td>\n<td>Scarborough\n</td>\n<td>Woburn\n</td></tr>\n<tr>\n<td>M2G\n</td>\n<td>Not assigned\n</td>\n<td>Not assigned\n</td></tr>\n<tr>\n<td>M3G\n</td>\n<td>Not assigned\n</td>\n<td>Not assigned\n</td></tr>\n<tr>\n<td>M4G\n</td>\n<td>East York\n</td>\n<td>Leaside\n</td></tr>\n<tr>\n<td>M5G\n</td>\n<td>Downtown Toronto\n</td>\n<td>Central Bay Street\n</td></tr>\n<tr>\n<td>M6G\n</td>\n<td>Downtown Toronto\n</td>\n<td>Christie\n</td></tr>\n<tr>\n<td>M7G\n</td>\n<td>Not assigned\n</td>\n<td>Not assigned\n</td></tr>\n<tr>\n<td>M8G\n</td>\n<td>Not assigned\n</td>\n<td>Not assigned\n</td></tr>\n<tr>\n<td>M9G\n</td>\n<td>Not assigned\n</td>\n<td>Not assigned\n</td></tr>\n<tr>\n<td>M1H\n</td>\n<td>Scarborough\n</td>\n<td>Cedarbrae\n</td></tr>\n<tr>\n<td>M2H\n</td>\n<td>North York\n</td>\n<td>Hillcrest Village\n</td></tr>\n<tr>\n<td>M3H\n</td>\n<td>North York\n</td>\n<td>Bathurst Manor, Wilson Heights, Downsview North\n</td></tr>\n<tr>\n<td>M4H\n</td>\n<td>East York\n</td>\n<td>Thorncliffe Park\n</td></tr>\n<tr>\n<td>M5H\n</td>\n<td>Downtown Toronto\n</td>\n<td>Richmond, Adelaide, King\n</td></tr>\n<tr>\n<td>M6H\n</td>\n<td>West Toronto\n</td>\n<td>Dufferin, Dovercourt Village\n</td></tr>\n<tr>\n<td>M7H\n</td>\n<td>Not assigned\n</td>\n<td>Not assigned\n</td></tr>\n<tr>\n<td>M8H\n</td>\n<td>Not assigned\n</td>\n<td>Not assigned\n</td></tr>\n<tr>\n<td>M9H\n</td>\n<td>Not assigned\n</td>\n<td>Not assigned\n</td></tr>\n<tr>\n<td>M1J\n</td>\n<td>Scarborough\n</td>\n<td>Scarborough Village\n</td></tr>\n<tr>\n<td>M2J\n</td>\n<td>North York\n</td>\n<td>Fairview, Henry Farm, Oriole\n</td></tr>\n<tr>\n<td>M3J\n</td>\n<td>North York\n</td>\n<td>Northwood Park, York University\n</td></tr>\n<tr>\n<td>M4J\n</td>\n<td>East York\n</td>\n<td>East Toronto, Broadview North (Old East York)\n</td></tr>\n<tr>\n<td>M5J\n</td>\n<td>Downtown Toronto\n</td>\n<td>Harbourfront East, Union Station, Toronto Islands\n</td></tr>\n<tr>\n<td>M6J\n</td>\n<td>West Toronto\n</td>\n<td>Little Portugal, Trinity\n</td></tr>\n<tr>\n<td>M7J\n</td>\n<td>Not assigned\n</td>\n<td>Not assigned\n</td></tr>\n<tr>\n<td>M8J\n</td>\n<td>Not assigned\n</td>\n<td>Not assigned\n</td></tr>\n<tr>\n<td>M9J\n</td>\n<td>Not assigned\n</td>\n<td>Not assigned\n</td></tr>\n<tr>\n<td>M1K\n</td>\n<td>Scarborough\n</td>\n<td>Kennedy Park, Ionview, East Birchmount Park\n</td></tr>\n<tr>\n<td>M2K\n</td>\n<td>North York\n</td>\n<td>Bayview Village\n</td></tr>\n<tr>\n<td>M3K\n</td>\n<td>North York\n</td>\n<td>Downsview\n</td></tr>\n<tr>\n<td>M4K\n</td>\n<td>East Toronto\n</td>\n<td>The Danforth West, Riverdale\n</td></tr>\n<tr>\n<td>M5K\n</td>\n<td>Downtown Toronto\n</td>\n<td>Toronto Dominion Centre, Design Exchange\n</td></tr>\n<tr>\n<td>M6K\n</td>\n<td>West Toronto\n</td>\n<td>Brockton, Parkdale Village, Exhibition Place\n</td></tr>\n<tr>\n<td>M7K\n</td>\n<td>Not assigned\n</td>\n<td>Not assigned\n</td></tr>\n<tr>\n<td>M8K\n</td>\n<td>Not assigned\n</td>\n<td>Not assigned\n</td></tr>\n<tr>\n<td>M9K\n</td>\n<td>Not assigned\n</td>\n<td>Not assigned\n</td></tr>\n<tr>\n<td>M1L\n</td>\n<td>Scarborough\n</td>\n<td>Golden Mile, Clairlea, Oakridge\n</td></tr>\n<tr>\n<td>M2L\n</td>\n<td>North York\n</td>\n<td>York Mills, Silver Hills\n</td></tr>\n<tr>\n<td>M3L\n</td>\n<td>North York\n</td>\n<td>Downsview\n</td></tr>\n<tr>\n<td>M4L\n</td>\n<td>East Toronto\n</td>\n<td>India Bazaar, The Beaches West\n</td></tr>\n<tr>\n<td>M5L\n</td>\n<td>Downtown Toronto\n</td>\n<td>Commerce Court, Victoria Hotel\n</td></tr>\n<tr>\n<td>M6L\n</td>\n<td>North York\n</td>\n<td>North Park, Maple Leaf Park, Upwood Park\n</td></tr>\n<tr>\n<td>M7L\n</td>\n<td>Not assigned\n</td>\n<td>Not assigned\n</td></tr>\n<tr>\n<td>M8L\n</td>\n<td>Not assigned\n</td>\n<td>Not assigned\n</td></tr>\n<tr>\n<td>M9L\n</td>\n<td>North York\n</td>\n<td>Humber Summit\n</td></tr>\n<tr>\n<td>M1M\n</td>\n<td>Scarborough\n</td>\n<td>Cliffside, Cliffcrest, Scarborough Village West\n</td></tr>\n<tr>\n<td>M2M\n</td>\n<td>North York\n</td>\n<td>Willowdale, Newtonbrook\n</td></tr>\n<tr>\n<td>M3M\n</td>\n<td>North York\n</td>\n<td>Downsview\n</td></tr>\n<tr>\n<td>M4M\n</td>\n<td>East Toronto\n</td>\n<td>Studio District\n</td></tr>\n<tr>\n<td>M5M\n</td>\n<td>North York\n</td>\n<td>Bedford Park, Lawrence Manor East\n</td></tr>\n<tr>\n<td>M6M\n</td>\n<td>York\n</td>\n<td>Del Ray, Mount Dennis, Keelsdale and Silverthorn\n</td></tr>\n<tr>\n<td>M7M\n</td>\n<td>Not assigned\n</td>\n<td>Not assigned\n</td></tr>\n<tr>\n<td>M8M\n</td>\n<td>Not assigned\n</td>\n<td>Not assigned\n</td></tr>\n<tr>\n<td>M9M\n</td>\n<td>North York\n</td>\n<td>Humberlea, Emery\n</td></tr>\n<tr>\n<td>M1N\n</td>\n<td>Scarborough\n</td>\n<td>Birch Cliff, Cliffside West\n</td></tr>\n<tr>\n<td>M2N\n</td>\n<td>North York\n</td>\n<td>Willowdale, Willowdale East\n</td></tr>\n<tr>\n<td>M3N\n</td>\n<td>North York\n</td>\n<td>Downsview\n</td></tr>\n<tr>\n<td>M4N\n</td>\n<td>Central Toronto\n</td>\n<td>Lawrence Park\n</td></tr>\n<tr>\n<td>M5N\n</td>\n<td>Central Toronto\n</td>\n<td>Roselawn\n</td></tr>\n<tr>\n<td>M6N\n</td>\n<td>York\n</td>\n<td>Runnymede, The Junction North\n</td></tr>\n<tr>\n<td>M7N\n</td>\n<td>Not assigned\n</td>\n<td>Not assigned\n</td></tr>\n<tr>\n<td>M8N\n</td>\n<td>Not assigned\n</td>\n<td>Not assigned\n</td></tr>\n<tr>\n<td>M9N\n</td>\n<td>York\n</td>\n<td>Weston\n</td></tr>\n<tr>\n<td>M1P\n</td>\n<td>Scarborough\n</td>\n<td>Dorset Park, Wexford Heights, Scarborough Town Centre\n</td></tr>\n<tr>\n<td>M2P\n</td>\n<td>North York\n</td>\n<td>York Mills West\n</td></tr>\n<tr>\n<td>M3P\n</td>\n<td>Not assigned\n</td>\n<td>Not assigned\n</td></tr>\n<tr>\n<td>M4P\n</td>\n<td>Central Toronto\n</td>\n<td>Davisville North\n</td></tr>\n<tr>\n<td>M5P\n</td>\n<td>Central Toronto\n</td>\n<td>Forest Hill North &amp; West, Forest Hill Road Park\n</td></tr>\n<tr>\n<td>M6P\n</td>\n<td>West Toronto\n</td>\n<td>High Park, The Junction South\n</td></tr>\n<tr>\n<td>M7P\n</td>\n<td>Not assigned\n</td>\n<td>Not assigned\n</td></tr>\n<tr>\n<td>M8P\n</td>\n<td>Not assigned\n</td>\n<td>Not assigned\n</td></tr>\n<tr>\n<td>M9P\n</td>\n<td>Etobicoke\n</td>\n<td>Westmount\n</td></tr>\n<tr>\n<td>M1R\n</td>\n<td>Scarborough\n</td>\n<td>Wexford, Maryvale\n</td></tr>\n<tr>\n<td>M2R\n</td>\n<td>North York\n</td>\n<td>Willowdale, Willowdale West\n</td></tr>\n<tr>\n<td>M3R\n</td>\n<td>Not assigned\n</td>\n<td>Not assigned\n</td></tr>\n<tr>\n<td>M4R\n</td>\n<td>Central Toronto\n</td>\n<td>North Toronto West,  Lawrence Park\n</td></tr>\n<tr>\n<td>M5R\n</td>\n<td>Central Toronto\n</td>\n<td>The Annex, North Midtown, Yorkville\n</td></tr>\n<tr>\n<td>M6R\n</td>\n<td>West Toronto\n</td>\n<td>Parkdale, Roncesvalles\n</td></tr>\n<tr>\n<td>M7R\n</td>\n<td>Mississauga\n</td>\n<td>Canada Post Gateway Processing Centre\n</td></tr>\n<tr>\n<td>M8R\n</td>\n<td>Not assigned\n</td>\n<td>Not assigned\n</td></tr>\n<tr>\n<td>M9R\n</td>\n<td>Etobicoke\n</td>\n<td>Kingsview Village, St. Phillips, Martin Grove Gardens, Richview Gardens\n</td></tr>\n<tr>\n<td>M1S\n</td>\n<td>Scarborough\n</td>\n<td>Agincourt\n</td></tr>\n<tr>\n<td>M2S\n</td>\n<td>Not assigned\n</td>\n<td>Not assigned\n</td></tr>\n<tr>\n<td>M3S\n</td>\n<td>Not assigned\n</td>\n<td>Not assigned\n</td></tr>\n<tr>\n<td>M4S\n</td>\n<td>Central Toronto\n</td>\n<td>Davisville\n</td></tr>\n<tr>\n<td>M5S\n</td>\n<td>Downtown Toronto\n</td>\n<td>University of Toronto, Harbord\n</td></tr>\n<tr>\n<td>M6S\n</td>\n<td>West Toronto\n</td>\n<td>Runnymede, Swansea\n</td></tr>\n<tr>\n<td>M7S\n</td>\n<td>Not assigned\n</td>\n<td>Not assigned\n</td></tr>\n<tr>\n<td>M8S\n</td>\n<td>Not assigned\n</td>\n<td>Not assigned\n</td></tr>\n<tr>\n<td>M9S\n</td>\n<td>Not assigned\n</td>\n<td>Not assigned\n</td></tr>\n<tr>\n<td>M1T\n</td>\n<td>Scarborough\n</td>\n<td>Clarks Corners, Tam O'Shanter, Sullivan\n</td></tr>\n<tr>\n<td>M2T\n</td>\n<td>Not assigned\n</td>\n<td>Not assigned\n</td></tr>\n<tr>\n<td>M3T\n</td>\n<td>Not assigned\n</td>\n<td>Not assigned\n</td></tr>\n<tr>\n<td>M4T\n</td>\n<td>Central Toronto\n</td>\n<td>Moore Park, Summerhill East\n</td></tr>\n<tr>\n<td>M5T\n</td>\n<td>Downtown Toronto\n</td>\n<td>Kensington Market, Chinatown, Grange Park\n</td></tr>\n<tr>\n<td>M6T\n</td>\n<td>Not assigned\n</td>\n<td>Not assigned\n</td></tr>\n<tr>\n<td>M7T\n</td>\n<td>Not assigned\n</td>\n<td>Not assigned\n</td></tr>\n<tr>\n<td>M8T\n</td>\n<td>Not assigned\n</td>\n<td>Not assigned\n</td></tr>\n<tr>\n<td>M9T\n</td>\n<td>Not assigned\n</td>\n<td>Not assigned\n</td></tr>\n<tr>\n<td>M1V\n</td>\n<td>Scarborough\n</td>\n<td>Milliken, Agincourt North, Steeles East, L'Amoreaux East\n</td></tr>\n<tr>\n<td>M2V\n</td>\n<td>Not assigned\n</td>\n<td>Not assigned\n</td></tr>\n<tr>\n<td>M3V\n</td>\n<td>Not assigned\n</td>\n<td>Not assigned\n</td></tr>\n<tr>\n<td>M4V\n</td>\n<td>Central Toronto\n</td>\n<td>Summerhill West, Rathnelly, South Hill, Forest Hill SE, Deer Park\n</td></tr>\n<tr>\n<td>M5V\n</td>\n<td>Downtown Toronto\n</td>\n<td>CN Tower, King and Spadina, Railway Lands, Harbourfront West, Bathurst Quay, South Niagara, Island airport\n</td></tr>\n<tr>\n<td>M6V\n</td>\n<td>Not assigned\n</td>\n<td>Not assigned\n</td></tr>\n<tr>\n<td>M7V\n</td>\n<td>Not assigned\n</td>\n<td>Not assigned\n</td></tr>\n<tr>\n<td>M8V\n</td>\n<td>Etobicoke\n</td>\n<td>New Toronto, Mimico South, Humber Bay Shores\n</td></tr>\n<tr>\n<td>M9V\n</td>\n<td>Etobicoke\n</td>\n<td>South Steeles, Silverstone, Humbergate, Jamestown, Mount Olive, Beaumond Heights, Thistletown, Albion Gardens\n</td></tr>\n<tr>\n<td>M1W\n</td>\n<td>Scarborough\n</td>\n<td>Steeles West, L'Amoreaux West\n</td></tr>\n<tr>\n<td>M2W\n</td>\n<td>Not assigned\n</td>\n<td>Not assigned\n</td></tr>\n<tr>\n<td>M3W\n</td>\n<td>Not assigned\n</td>\n<td>Not assigned\n</td></tr>\n<tr>\n<td>M4W\n</td>\n<td>Downtown Toronto\n</td>\n<td>Rosedale\n</td></tr>\n<tr>\n<td>M5W\n</td>\n<td>Downtown Toronto\n</td>\n<td>Stn A PO Boxes\n</td></tr>\n<tr>\n<td>M6W\n</td>\n<td>Not assigned\n</td>\n<td>Not assigned\n</td></tr>\n<tr>\n<td>M7W\n</td>\n<td>Not assigned\n</td>\n<td>Not assigned\n</td></tr>\n<tr>\n<td>M8W\n</td>\n<td>Etobicoke\n</td>\n<td>Alderwood, Long Branch\n</td></tr>\n<tr>\n<td>M9W\n</td>\n<td>Etobicoke\n</td>\n<td>Northwest, West Humber - Clairville\n</td></tr>\n<tr>\n<td>M1X\n</td>\n<td>Scarborough\n</td>\n<td>Upper Rouge\n</td></tr>\n<tr>\n<td>M2X\n</td>\n<td>Not assigned\n</td>\n<td>Not assigned\n</td></tr>\n<tr>\n<td>M3X\n</td>\n<td>Not assigned\n</td>\n<td>Not assigned\n</td></tr>\n<tr>\n<td>M4X\n</td>\n<td>Downtown Toronto\n</td>\n<td>St. James Town, Cabbagetown\n</td></tr>\n<tr>\n<td>M5X\n</td>\n<td>Downtown Toronto\n</td>\n<td>First Canadian Place, Underground city\n</td></tr>\n<tr>\n<td>M6X\n</td>\n<td>Not assigned\n</td>\n<td>Not assigned\n</td></tr>\n<tr>\n<td>M7X\n</td>\n<td>Not assigned\n</td>\n<td>Not assigned\n</td></tr>\n<tr>\n<td>M8X\n</td>\n<td>Etobicoke\n</td>\n<td>The Kingsway, Montgomery Road, Old Mill North\n</td></tr>\n<tr>\n<td>M9X\n</td>\n<td>Not assigned\n</td>\n<td>Not assigned\n</td></tr>\n<tr>\n<td>M1Y\n</td>\n<td>Not assigned\n</td>\n<td>Not assigned\n</td></tr>\n<tr>\n<td>M2Y\n</td>\n<td>Not assigned\n</td>\n<td>Not assigned\n</td></tr>\n<tr>\n<td>M3Y\n</td>\n<td>Not assigned\n</td>\n<td>Not assigned\n</td></tr>\n<tr>\n<td>M4Y\n</td>\n<td>Downtown Toronto\n</td>\n<td>Church and Wellesley\n</td></tr>\n<tr>\n<td>M5Y\n</td>\n<td>Not assigned\n</td>\n<td>Not assigned\n</td></tr>\n<tr>\n<td>M6Y\n</td>\n<td>Not assigned\n</td>\n<td>Not assigned\n</td></tr>\n<tr>\n<td>M7Y\n</td>\n<td>East Toronto\n</td>\n<td>Business reply mail Processing Centre, South Central Letter Processing Plant Toronto\n</td></tr>\n<tr>\n<td>M8Y\n</td>\n<td>Etobicoke\n</td>\n<td>Old Mill South, King's Mill Park, Sunnylea, Humber Bay, Mimico NE, The Queensway East, Royal York South East, Kingsway Park South East\n</td></tr>\n<tr>\n<td>M9Y\n</td>\n<td>Not assigned\n</td>\n<td>Not assigned\n</td></tr>\n<tr>\n<td>M1Z\n</td>\n<td>Not assigned\n</td>\n<td>Not assigned\n</td></tr>\n<tr>\n<td>M2Z\n</td>\n<td>Not assigned\n</td>\n<td>Not assigned\n</td></tr>\n<tr>\n<td>M3Z\n</td>\n<td>Not assigned\n</td>\n<td>Not assigned\n</td></tr>\n<tr>\n<td>M4Z\n</td>\n<td>Not assigned\n</td>\n<td>Not assigned\n</td></tr>\n<tr>\n<td>M5Z\n</td>\n<td>Not assigned\n</td>\n<td>Not assigned\n</td></tr>\n<tr>\n<td>M6Z\n</td>\n<td>Not assigned\n</td>\n<td>Not assigned\n</td></tr>\n<tr>\n<td>M7Z\n</td>\n<td>Not assigned\n</td>\n<td>Not assigned\n</td></tr>\n<tr>\n<td>M8Z\n</td>\n<td>Etobicoke\n</td>\n<td>Mimico NW, The Queensway West, South of Bloor, Kingsway Park South West, Royal York South West\n</td></tr>\n<tr>\n<td>M9Z\n</td>\n<td>Not assigned\n</td>\n<td>Not assigned\n</td></tr></tbody></table>\n<h2><span id=\"Most_populated_FSAs.5B3.5D\"></span><span class=\"mw-headline\" id=\"Most_populated_FSAs[3]\">Most populated FSAs<sup class=\"reference\" id=\"cite_ref-statcan_3-0\"><a href=\"#cite_note-statcan-3\">[3]</a></sup></span><span class=\"mw-editsection\"><span class=\"mw-editsection-bracket\">[</span><a href=\"/w/index.php?title=List_of_postal_codes_of_Canada:_M&amp;action=edit&amp;section=2\" title=\"Edit section: Most populated FSAs[3]\">edit</a><span class=\"mw-editsection-bracket\">]</span></span></h2>\n<ol><li>M1B, 65,129http://www.rfc-editor.org/info/rfc7617</li>\n<li>M2N, 60,124http://www.rfc-editor.org/info/rfc7617</li>\n<li>M1V, 55,250http://www.rfc-editor.org/info/rfc7617</li>\n<li>M9V, 55,159http://www.rfc-editor.org/info/rfc7617</li>\n<li>M2J, 54,391http://www.rfc-editor.org/info/rfc7617</li></ol>\n<h2><span id=\"Least_populated_FSAs.5B3.5D\"></span><span class=\"mw-headline\" id=\"Least_populated_FSAs[3]\">Least populated FSAs<sup class=\"reference\" id=\"cite_ref-statcan_3-1\"><a href=\"#cite_note-statcan-3\">[3]</a></sup></span><span class=\"mw-editsection\"><span class=\"mw-editsection-bracket\">[</span><a href=\"/w/index.php?title=List_of_postal_codes_of_Canada:_M&amp;action=edit&amp;section=3\" title=\"Edit section: Least populated FSAs[3]\">edit</a><span class=\"mw-editsection-bracket\">]</span></span></h2>\n<ol><li>M5K, 5</li>\n<li>M5L, 5</li>\n<li>M5W, 5</li>\n<li>M5X, 5</li>\n<li>M7A, 5</li></ol>\n<h2><span class=\"mw-headline\" id=\"References\">References</span><span class=\"mw-editsection\"><span class=\"mw-editsection-bracket\">[</span><a href=\"/w/index.php?title=List_of_postal_codes_of_Canada:_M&amp;action=edit&amp;section=4\" title=\"Edit section: References\">edit</a><span class=\"mw-editsection-bracket\">]</span></span></h2>\n<div class=\"mw-references-wrap\"><ol class=\"references\">\n<li id=\"cite_note-1\"><span class=\"mw-cite-backlink\"><b><a href=\"#cite_ref-1\">^</a></b></span> <span class=\"reference-text\">\n<cite class=\"citation web\" id=\"CITEREFCanada_Post\">Canada Post. <a class=\"external text\" href=\"https://www.canadapost.ca/cpotools/apps/fpc/personal/findByCity?execution=e2s1\" rel=\"nofollow\">\"Canada Post - Find a Postal Code\"</a><span class=\"reference-accessdate\">. Retrieved <span class=\"nowrap\">9 November</span> 2008</span>.</cite><span class=\"Z3988\" title=\"ctx_ver=Z39.88-2004&amp;rft_val_fmt=info%3Aofi%2Ffmt%3Akev%3Amtx%3Abook&amp;rft.genre=unknown&amp;rft.btitle=Canada+Post+-+Find+a+Postal+Code&amp;rft.au=Canada+Post&amp;rft_id=https%3A%2F%2Fwww.canadapost.ca%2Fcpotools%2Fapps%2Ffpc%2Fpersonal%2FfindByCity%3Fexecution%3De2s1&amp;rfr_id=info%3Asid%2Fen.wikipedia.org%3AList+of+postal+codes+of+Canada%3A+M\"></span><style data-mw-deduplicate=\"TemplateStyles:r951705291\">.mw-parser-output cite.citation{font-style:inherit}.mw-parser-output .citation q{quotes:\"\\\"\"\"\\\"\"\"'\"\"'\"}.mw-parser-output .id-lock-free a,.mw-parser-output .citation .cs1-lock-free a{background-image:url(\"//upload.wikimedia.org/wikipedia/commons/thumb/6/65/Lock-green.svg/9px-Lock-green.svg.png\");background-image:linear-gradient(transparent,transparent),url(\"//upload.wikimedia.org/wikipedia/commons/6/65/Lock-green.svg\");background-repeat:no-repeat;background-size:9px;background-position:right .1em center}.mw-parser-output .id-lock-limited a,.mw-parser-output .id-lock-registration a,.mw-parser-output .citation .cs1-lock-limited a,.mw-parser-output .citation .cs1-lock-registration a{background-image:url(\"//upload.wikimedia.org/wikipedia/commons/thumb/d/d6/Lock-gray-alt-2.svg/9px-Lock-gray-alt-2.svg.png\");background-image:linear-gradient(transparent,transparent),url(\"//upload.wikimedia.org/wikipedia/commons/d/d6/Lock-gray-alt-2.svg\");background-repeat:no-repeat;background-size:9px;background-position:right .1em center}.mw-parser-output .id-lock-subscription a,.mw-parser-output .citation .cs1-lock-subscription a{background-image:url(\"//upload.wikimedia.org/wikipedia/commons/thumb/a/aa/Lock-red-alt-2.svg/9px-Lock-red-alt-2.svg.png\");background-image:linear-gradient(transparent,transparent),url(\"//upload.wikimedia.org/wikipedia/commons/a/aa/Lock-red-alt-2.svg\");background-repeat:no-repeat;background-size:9px;background-position:right .1em center}.mw-parser-output .cs1-subscription,.mw-parser-output .cs1-registration{color:#555}.mw-parser-output .cs1-subscription span,.mw-parser-output .cs1-registration span{border-bottom:1px dotted;cursor:help}.mw-parser-output .cs1-ws-icon a{background-image:url(\"//upload.wikimedia.org/wikipedia/commons/thumb/4/4c/Wikisource-logo.svg/12px-Wikisource-logo.svg.png\");background-image:linear-gradient(transparent,transparent),url(\"//upload.wikimedia.org/wikipedia/commons/4/4c/Wikisource-logo.svg\");background-repeat:no-repeat;background-size:12px;background-position:right .1em center}.mw-parser-output code.cs1-code{color:inherit;background:inherit;border:inherit;padding:inherit}.mw-parser-output .cs1-hidden-error{display:none;font-size:100%}.mw-parser-output .cs1-visible-error{font-size:100%}.mw-parser-output .cs1-maint{display:none;color:#33aa33;margin-left:0.3em}.mw-parser-output .cs1-subscription,.mw-parser-output .cs1-registration,.mw-parser-output .cs1-format{font-size:95%}.mw-parser-output .cs1-kern-left,.mw-parser-output .cs1-kern-wl-left{padding-left:0.2em}.mw-parser-output .cs1-kern-right,.mw-parser-output .cs1-kern-wl-right{padding-right:0.2em}.mw-parser-output .citation .mw-selflink{font-weight:inherit}</style></span>\n</li>\n<li id=\"cite_note-2\"><span class=\"mw-cite-backlink\"><b><a href=\"#cite_ref-2\">^</a></b></span> <span class=\"reference-text\"><cite class=\"citation web\"><a class=\"external text\" href=\"https://web.archive.org/web/20110519093024/http://www.canadapost.ca/cpo/mc/personal/tools/mobileapp/default.jsf\" rel=\"nofollow\">\"Mobile Apps\"</a>. Canada Post. Archived from <a class=\"external text\" href=\"http://www.canadapost.ca/cpo/mc/personal/tools/mobileapp/default.jsf\" rel=\"nofollow\">the original</a> on 2011-05-19.</cite><span class=\"Z3988\" title=\"ctx_ver=Z39.88-2004&amp;rft_val_fmt=info%3Aofi%2Ffmt%3Akev%3Amtx%3Abook&amp;rft.genre=unknown&amp;rft.btitle=Mobile+Apps&amp;rft.pub=Canada+Post&amp;rft_id=http%3A%2F%2Fwww.canadapost.ca%2Fcpo%2Fmc%2Fpersonal%2Ftools%2Fmobileapp%2Fdefault.jsf&amp;rfr_id=info%3Asid%2Fen.wikipedia.org%3AList+of+postal+codes+of+Canada%3A+M\"></span><link href=\"mw-data:TemplateStyles:r951705291\" rel=\"mw-deduplicated-inline-style\"/></span>\n</li>\n<li id=\"cite_note-statcan-3\"><span class=\"mw-cite-backlink\">^ <a href=\"#cite_ref-statcan_3-0\"><sup><i><b>a</b></i></sup></a> <a href=\"#cite_ref-statcan_3-1\"><sup><i><b>b</b></i></sup></a></span> <span class=\"reference-text\"><cite class=\"citation web\"><a class=\"external text\" href=\"http://www12.statcan.ca/english/census06/data/popdwell/Table.cfm?T=1201&amp;SR=1&amp;S=0&amp;O=A&amp;RPP=9999&amp;PR=0&amp;CMA=0\" rel=\"nofollow\">\"2006 Census of Population\"</a>. 15 October 2008.</cite><span class=\"Z3988\" title=\"ctx_ver=Z39.88-2004&amp;rft_val_fmt=info%3Aofi%2Ffmt%3Akev%3Amtx%3Abook&amp;rft.genre=unknown&amp;rft.btitle=2006+Census+of+Population&amp;rft.date=2008-10-15&amp;rft_id=http%3A%2F%2Fwww12.statcan.ca%2Fenglish%2Fcensus06%2Fdata%2Fpopdwell%2FTable.cfm%3FT%3D1201%26SR%3D1%26S%3D0%26O%3DA%26RPP%3D9999%26PR%3D0%26CMA%3D0&amp;rfr_id=info%3Asid%2Fen.wikipedia.org%3AList+of+postal+codes+of+Canada%3A+M\"></span><link href=\"mw-data:TemplateStyles:r951705291\" rel=\"mw-deduplicated-inline-style\"/></span>\n</li>\n</ol></div>\n<table class=\"navbox\">\n<tbody><tr>\n<td style=\"width:36px; text-align:center\"><a class=\"image\" href=\"/wiki/File:Flag_of_Canada.svg\" title=\"Flag of Canada\"><img alt=\"Flag of Canada\" data-file-height=\"600\" data-file-width=\"1200\" decoding=\"async\" height=\"18\" src=\"//upload.wikimedia.org/wikipedia/en/thumb/c/cf/Flag_of_Canada.svg/36px-Flag_of_Canada.svg.png\" srcset=\"//upload.wikimedia.org/wikipedia/en/thumb/c/cf/Flag_of_Canada.svg/54px-Flag_of_Canada.svg.png 1.5x, //upload.wikimedia.org/wikipedia/en/thumb/c/cf/Flag_of_Canada.svg/72px-Flag_of_Canada.svg.png 2x\" width=\"36\"/></a>\n</td>\n<th class=\"navbox-title\" style=\"font-size:110%\"><a href=\"/wiki/Postal_codes_in_Canada\" title=\"Postal codes in Canada\">Canadian postal codes</a>\n</th>\n<td style=\"width:36px; text-align:center\"><a class=\"image\" href=\"/wiki/File:Canadian_postal_district_map_(without_legends).svg\"><img alt=\"Canadian postal district map (without legends).svg\" data-file-height=\"846\" data-file-width=\"1000\" decoding=\"async\" height=\"18\" src=\"//upload.wikimedia.org/wikipedia/commons/thumb/e/eb/Canadian_postal_district_map_%28without_legends%29.svg/21px-Canadian_postal_district_map_%28without_legends%29.svg.png\" srcset=\"//upload.wikimedia.org/wikipedia/commons/thumb/e/eb/Canadian_postal_district_map_%28without_legends%29.svg/32px-Canadian_postal_district_map_%28without_legends%29.svg.png 1.5x, //upload.wikimedia.org/wikipedia/commons/thumb/e/eb/Canadian_postal_district_map_%28without_legends%29.svg/43px-Canadian_postal_district_map_%28without_legends%29.svg.png 2x\" width=\"21\"/></a>\n</td></tr>\n<tr>\n<td colspan=\"3\" style=\"text-align:center; font-size: 100%;\">\n<table cellspacing=\"0\" style=\"background-color: #F8F8F8;\" width=\"100%\">\n<tbody><tr>\n<td style=\"text-align:center; border:1px solid #aaa;\"><a href=\"/wiki/Newfoundland_and_Labrador\" title=\"Newfoundland and Labrador\">NL</a>\n</td>\n<td style=\"text-align:center; border:1px solid #aaa;\"><a href=\"/wiki/Nova_Scotia\" title=\"Nova Scotia\">NS</a>\n</td>\n<td style=\"text-align:center; border:1px solid #aaa;\"><a href=\"/wiki/Prince_Edward_Island\" title=\"Prince Edward Island\">PE</a>\n</td>\n<td style=\"text-align:center; border:1px solid #aaa;\"><a href=\"/wiki/New_Brunswick\" title=\"New Brunswick\">NB</a>\n</td>\n<td colspan=\"3\" style=\"text-align:center; border:1px solid #aaa;\"><a href=\"/wiki/Quebec\" title=\"Quebec\">QC</a>\n</td>\n<td colspan=\"5\" style=\"text-align:center; border:1px solid #aaa;\"><a href=\"/wiki/Ontario\" title=\"Ontario\">ON</a>\n</td>\n<td style=\"text-align:center; border:1px solid #aaa;\"><a href=\"/wiki/Manitoba\" title=\"Manitoba\">MB</a>\n</td>\n<td style=\"text-align:center; border:1px solid #aaa;\"><a href=\"/wiki/Saskatchewan\" title=\"Saskatchewan\">SK</a>\n</td>\n<td style=\"text-align:center; border:1px solid #aaa;\"><a href=\"/wiki/Alberta\" title=\"Alberta\">AB</a>\n</td>\n<td style=\"text-align:center; border:1px solid #aaa;\"><a href=\"/wiki/British_Columbia\" title=\"British Columbia\">BC</a>\n</td>\n<td style=\"text-align:center; border:1px solid #aaa;\"><a href=\"/wiki/Nunavut\" title=\"Nunavut\">NU</a>/<a href=\"/wiki/Northwest_Territories\" title=\"Northwest Territories\">NT</a>\n</td>\n<td style=\"text-align:center; border:1px solid #aaa;\"><a href=\"/wiki/Yukon\" title=\"Yukon\">YT</a>\n</td></tr>\n<tr>\n<td align=\"center\" style=\"border: 1px solid #FF0000; background-color: #FFE0E0; font-size: 135%;\" width=\"5%\"><a href=\"/wiki/List_of_postal_codes_of_Canada:_A\" title=\"List of postal codes of Canada: A\">A</a>\n</td>\n<td align=\"center\" style=\"border: 1px solid #FF4000; background-color: #FFE8E0; font-size: 135%;\" width=\"5%\"><a href=\"/wiki/List_of_postal_codes_of_Canada:_B\" title=\"List of postal codes of Canada: B\">B</a>\n</td>\n<td align=\"center\" style=\"border: 1px solid #FF8000; background-color: #FFF0E0; font-size: 135%;\" width=\"5%\"><a href=\"/wiki/List_of_postal_codes_of_Canada:_C\" title=\"List of postal codes of Canada: C\">C</a>\n</td>\n<td align=\"center\" style=\"border: 1px solid #FFC000; background-color: #FFF8E0; font-size: 135%;\" width=\"5%\"><a href=\"/wiki/List_of_postal_codes_of_Canada:_E\" title=\"List of postal codes of Canada: E\">E</a>\n</td>\n<td align=\"center\" style=\"border: 1px solid #FFFF00; background-color: #FFFFE0; font-size: 135%;\" width=\"5%\"><a href=\"/wiki/List_of_postal_codes_of_Canada:_G\" title=\"List of postal codes of Canada: G\">G</a>\n</td>\n<td align=\"center\" style=\"border: 1px solid #C0FF00; background-color: #F8FFE0; font-size: 135%;\" width=\"5%\"><a href=\"/wiki/List_of_postal_codes_of_Canada:_H\" title=\"List of postal codes of Canada: H\">H</a>\n</td>\n<td align=\"center\" style=\"border: 1px solid #80FF00; background-color: #F0FFE0; font-size: 135%;\" width=\"5%\"><a href=\"/wiki/List_of_postal_codes_of_Canada:_J\" title=\"List of postal codes of Canada: J\">J</a>\n</td>\n<td align=\"center\" style=\"border: 1px solid #00FF00; background-color: #E0FFE0; font-size: 135%;\" width=\"5%\"><a href=\"/wiki/List_of_postal_codes_of_Canada:_K\" title=\"List of postal codes of Canada: K\">K</a>\n</td>\n<td align=\"center\" style=\"border: 1px solid #00FF80; background-color: #E0FFF0; font-size: 135%;\" width=\"5%\"><a href=\"/wiki/List_of_postal_codes_of_Canada:_L\" title=\"List of postal codes of Canada: L\">L</a>\n</td>\n<td align=\"center\" style=\"border: 1px solid #E0FFF8; background-color: #00FFC0; font-size: 135%; color: black;\" width=\"5%\"><a class=\"mw-selflink selflink\">M</a>\n</td>\n<td align=\"center\" style=\"border: 1px solid #00FFE0; background-color: #E0FFFC; font-size: 135%;\" width=\"5%\"><a href=\"/wiki/List_of_postal_codes_of_Canada:_N\" title=\"List of postal codes of Canada: N\">N</a>\n</td>\n<td align=\"center\" style=\"border: 1px solid #00FFFF; background-color: #E0FFFF; font-size: 135%;\" width=\"5%\"><a href=\"/wiki/List_of_postal_codes_of_Canada:_P\" title=\"List of postal codes of Canada: P\">P</a>\n</td>\n<td align=\"center\" style=\"border: 1px solid #00C0FF; background-color: #E0F8FF; font-size: 135%;\" width=\"5%\"><a href=\"/wiki/List_of_postal_codes_of_Canada:_R\" title=\"List of postal codes of Canada: R\">R</a>\n</td>\n<td align=\"center\" style=\"border: 1px solid #0080FF; background-color: #E0F0FF; font-size: 135%;\" width=\"5%\"><a href=\"/wiki/List_of_postal_codes_of_Canada:_S\" title=\"List of postal codes of Canada: S\">S</a>\n</td>\n<td align=\"center\" style=\"border: 1px solid #0040FF; background-color: #E0E8FF; font-size: 135%;\" width=\"5%\"><a href=\"/wiki/List_of_postal_codes_of_Canada:_T\" title=\"List of postal codes of Canada: T\">T</a>\n</td>\n<td align=\"center\" style=\"border: 1px solid #0000FF; background-color: #E0E0FF; font-size: 135%;\" width=\"5%\"><a href=\"/wiki/List_of_postal_codes_of_Canada:_V\" title=\"List of postal codes of Canada: V\">V</a>\n</td>\n<td align=\"center\" style=\"border: 1px solid #A000FF; background-color: #E8E0FF; font-size: 135%;\" width=\"5%\"><a href=\"/wiki/List_of_postal_codes_of_Canada:_X\" title=\"List of postal codes of Canada: X\">X</a>\n</td>\n<td align=\"center\" style=\"border: 1px solid #FF00FF; background-color: #FFE0FF; font-size: 135%;\" width=\"5%\"><a href=\"/wiki/List_of_postal_codes_of_Canada:_Y\" title=\"List of postal codes of Canada: Y\">Y</a>\n</td></tr></tbody></table>\n</td></tr></tbody></table>\n<!-- \nNewPP limit report\nParsed by mw1332\nCached time: 20200614170517\nCache expiry: 2592000\nDynamic content: false\nComplications: [vary\u2010revision\u2010sha1]\nCPU time usage: 0.168 seconds\nReal time usage: 0.222 seconds\nPreprocessor visited node count: 257/1000000\nPost\u2010expand include size: 10511/2097152 bytes\nTemplate argument size: 195/2097152 bytes\nHighest expansion depth: 8/40\nExpensive parser function count: 0/500\nUnstrip recursion depth: 1/20\nUnstrip post\u2010expand size: 11794/5000000 bytes\nNumber of Wikibase entities loaded: 0/400\nLua time usage: 0.083/10.000 seconds\nLua memory usage: 2.33 MB/50 MB\n-->\n<!--\nTransclusion expansion time report (%,ms,calls,template)\n100.00%  167.944      1 -total\n 58.34%   97.981      3 Template:Cite_web\n 32.28%   54.205      1 Template:Short_description\n 22.85%   38.377      1 Template:Pagetype\n  4.01%    6.739      1 Template:Canadian_postal_codes\n  2.04%    3.428      1 Template:Main_other\n-->\n<!-- Saved in parser cache with key enwiki:pcache:idhash:539066-0!canonical and timestamp 20200614170517 and revision id 960187814\n -->\n</div><noscript><img alt=\"\" height=\"1\" src=\"//en.wikipedia.org/wiki/Special:CentralAutoLogin/start?type=1x1\" style=\"border: none; position: absolute;\" title=\"\" width=\"1\"/></noscript></div>\n<div class=\"printfooter\">Retrieved from \"<a dir=\"ltr\" href=\"https://en.wikipedia.org/w/index.php?title=List_of_postal_codes_of_Canada:_M&amp;oldid=960187814\">https://en.wikipedia.org/w/index.php?title=List_of_postal_codes_of_Canada:_M&amp;oldid=960187814</a>\"</div>\n<div class=\"catlinks\" data-mw=\"interface\" id=\"catlinks\"><div class=\"mw-normal-catlinks\" id=\"mw-normal-catlinks\"><a href=\"/wiki/Help:Category\" title=\"Help:Category\">Categories</a>: <ul><li><a href=\"/wiki/Category:Communications_in_Ontario\" title=\"Category:Communications in Ontario\">Communications in Ontario</a></li><li><a href=\"/wiki/Category:Postal_codes_in_Canada\" title=\"Category:Postal codes in Canada\">Postal codes in Canada</a></li><li><a href=\"/wiki/Category:Toronto\" title=\"Category:Toronto\">Toronto</a></li><li><a href=\"/wiki/Category:Ontario-related_lists\" title=\"Category:Ontario-related lists\">Ontario-related lists</a></li></ul></div><div class=\"mw-hidden-catlinks mw-hidden-cats-hidden\" id=\"mw-hidden-catlinks\">Hidden categories: <ul><li><a href=\"/wiki/Category:Articles_with_short_description\" title=\"Category:Articles with short description\">Articles with short description</a></li></ul></div></div>\n<div class=\"visualClear\"></div>\n</div>\n</div>\n<div id=\"mw-data-after-content\">\n<div class=\"read-more-container\"></div>\n</div>\n<div id=\"mw-navigation\">\n<h2>Navigation menu</h2>\n<div id=\"mw-head\">\n<div aria-labelledby=\"p-personal-label\" class=\"vector-menu\" id=\"p-personal\">\n<h3 id=\"p-personal-label\">\n<span>Personal tools</span>\n</h3>\n<!-- Please do not use the .body class, it is deprecated. -->\n<div class=\"body vector-menu-content\">\n<!-- Please do not use the .menu class, it is deprecated. -->\n<ul class=\"vector-menu-content-list\"><li id=\"pt-anonuserpage\">Not logged in</li><li id=\"pt-anontalk\"><a accesskey=\"n\" href=\"/wiki/Special:MyTalk\" title=\"Discussion about edits from this IP address [n]\">Talk</a></li><li id=\"pt-anoncontribs\"><a accesskey=\"y\" href=\"/wiki/Special:MyContributions\" title=\"A list of edits made from this IP address [y]\">Contributions</a></li><li id=\"pt-createaccount\"><a href=\"/w/index.php?title=Special:CreateAccount&amp;returnto=List+of+postal+codes+of+Canada%3A+M\" title=\"You are encouraged to create an account and log in; however, it is not mandatory\">Create account</a></li><li id=\"pt-login\"><a accesskey=\"o\" href=\"/w/index.php?title=Special:UserLogin&amp;returnto=List+of+postal+codes+of+Canada%3A+M\" title=\"You're encouraged to log in; however, it's not mandatory. [o]\">Log in</a></li></ul>\n</div>\n</div>\n<div id=\"left-navigation\">\n<div aria-labelledby=\"p-namespaces-label\" class=\"vector-menu vector-menu-tabs vectorTabs\" id=\"p-namespaces\">\n<h3 id=\"p-namespaces-label\">\n<span>Namespaces</span>\n</h3>\n<!-- Please do not use the .body class, it is deprecated. -->\n<div class=\"body vector-menu-content\">\n<!-- Please do not use the .menu class, it is deprecated. -->\n<ul class=\"vector-menu-content-list\"><li class=\"selected\" id=\"ca-nstab-main\"><a accesskey=\"c\" href=\"/wiki/List_of_postal_codes_of_Canada:_M\" title=\"View the content page [c]\">Article</a></li><li id=\"ca-talk\"><a accesskey=\"t\" href=\"/wiki/Talk:List_of_postal_codes_of_Canada:_M\" rel=\"discussion\" title=\"Discuss improvements to the content page [t]\">Talk</a></li></ul>\n</div>\n</div>\n<div aria-labelledby=\"p-variants-label\" class=\"vector-menu-empty emptyPortlet vector-menu vector-menu-dropdown vectorMenu\" id=\"p-variants\">\n<input aria-labelledby=\"p-variants-label\" class=\"vectorMenuCheckbox vector-menu-checkbox\" type=\"checkbox\"/>\n<h3 id=\"p-variants-label\">\n<span>Variants</span>\n</h3>\n<!-- Please do not use the .body class, it is deprecated. -->\n<div class=\"body vector-menu-content\">\n<!-- Please do not use the .menu class, it is deprecated. -->\n<ul class=\"menu vector-menu-content-list\"></ul>\n</div>\n</div>\n</div>\n<div id=\"right-navigation\">\n<div aria-labelledby=\"p-views-label\" class=\"vector-menu vector-menu-tabs vectorTabs\" id=\"p-views\">\n<h3 id=\"p-views-label\">\n<span>Views</span>\n</h3>\n<!-- Please do not use the .body class, it is deprecated. -->\n<div class=\"body vector-menu-content\">\n<!-- Please do not use the .menu class, it is deprecated. -->\n<ul class=\"vector-menu-content-list\"><li class=\"collapsible selected\" id=\"ca-view\"><a href=\"/wiki/List_of_postal_codes_of_Canada:_M\">Read</a></li><li class=\"collapsible\" id=\"ca-edit\"><a accesskey=\"e\" href=\"/w/index.php?title=List_of_postal_codes_of_Canada:_M&amp;action=edit\" title=\"Edit this page [e]\">Edit</a></li><li class=\"collapsible\" id=\"ca-history\"><a accesskey=\"h\" href=\"/w/index.php?title=List_of_postal_codes_of_Canada:_M&amp;action=history\" title=\"Past revisions of this page [h]\">View history</a></li></ul>\n</div>\n</div>\n<div aria-labelledby=\"p-cactions-label\" class=\"vector-menu-empty emptyPortlet vector-menu vector-menu-dropdown vectorMenu\" id=\"p-cactions\">\n<input aria-labelledby=\"p-cactions-label\" class=\"vectorMenuCheckbox vector-menu-checkbox\" type=\"checkbox\"/>\n<h3 id=\"p-cactions-label\">\n<span>More</span>\n</h3>\n<!-- Please do not use the .body class, it is deprecated. -->\n<div class=\"body vector-menu-content\">\n<!-- Please do not use the .menu class, it is deprecated. -->\n<ul class=\"menu vector-menu-content-list\"></ul>\n</div>\n</div>\n<div id=\"p-search\" role=\"search\">\n<h3>\n<label for=\"searchInput\">Search</label>\n</h3>\n<form action=\"/w/index.php\" id=\"searchform\">\n<div id=\"simpleSearch\">\n<input accesskey=\"f\" id=\"searchInput\" name=\"search\" placeholder=\"Search Wikipedia\" title=\"Search Wikipedia [f]\" type=\"search\"/>\n<input name=\"title\" type=\"hidden\" value=\"Special:Search\"/>\n<input class=\"searchButton mw-fallbackSearchButton\" id=\"mw-searchButton\" name=\"fulltext\" title=\"Search Wikipedia for this text\" type=\"submit\" value=\"Search\">\n<input class=\"searchButton\" id=\"searchButton\" name=\"go\" title=\"Go to a page with this exact name if it exists\" type=\"submit\" value=\"Go\"/>\n</input></div>\n</form>\n</div>\n</div>\n</div>\n<div id=\"mw-panel\">\n<div id=\"p-logo\" role=\"banner\">\n<a class=\"mw-wiki-logo\" href=\"/wiki/Main_Page\" title=\"Visit the main page\"></a>\n</div>\n<div aria-labelledby=\"p-navigation-label\" class=\"vector-menu vector-menu-portal portal portal-first\" id=\"p-navigation\">\n<h3 id=\"p-navigation-label\">\n<span>Navigation</span>\n</h3>\n<!-- Please do not use the .body class, it is deprecated. -->\n<div class=\"body vector-menu-content\">\n<!-- Please do not use the .menu class, it is deprecated. -->\n<ul class=\"vector-menu-content-list\"><li id=\"n-mainpage-description\"><a accesskey=\"z\" href=\"/wiki/Main_Page\" title=\"Visit the main page [z]\">Main page</a></li><li id=\"n-contents\"><a href=\"/wiki/Wikipedia:Contents\" title=\"Guides to browsing Wikipedia\">Contents</a></li><li id=\"n-currentevents\"><a href=\"/wiki/Portal:Current_events\" title=\"Find background information on current events\">Current events</a></li><li id=\"n-randompage\"><a accesskey=\"x\" href=\"/wiki/Special:Random\" title=\"Visit a randomly selected article [x]\">Random article</a></li><li id=\"n-aboutsite\"><a href=\"/wiki/Wikipedia:About\" title=\"Learn about Wikipedia and how it works\">About Wikipedia</a></li><li id=\"n-contactpage\"><a href=\"//en.wikipedia.org/wiki/Wikipedia:Contact_us\" title=\"How to contact Wikipedia\">Contact us</a></li><li id=\"n-sitesupport\"><a href=\"https://donate.wikimedia.org/wiki/Special:FundraiserRedirector?utm_source=donate&amp;utm_medium=sidebar&amp;utm_campaign=C13_en.wikipedia.org&amp;uselang=en\" title=\"Support us by donating to the Wikimedia Foundation\">Donate</a></li><li id=\"n-shoplink\"><a href=\"//shop.wikimedia.org\" title=\"Visit the Wikipedia store\">Wikipedia store</a></li></ul>\n</div>\n</div>\n<div aria-labelledby=\"p-interaction-label\" class=\"vector-menu vector-menu-portal portal\" id=\"p-interaction\">\n<h3 id=\"p-interaction-label\">\n<span>Contribute</span>\n</h3>\n<!-- Please do not use the .body class, it is deprecated. -->\n<div class=\"body vector-menu-content\">\n<!-- Please do not use the .menu class, it is deprecated. -->\n<ul class=\"vector-menu-content-list\"><li id=\"n-help\"><a href=\"/wiki/Help:Contents\" title=\"Guidance on how to use and edit Wikipedia\">Help</a></li><li id=\"n-portal\"><a href=\"/wiki/Wikipedia:Community_portal\" title=\"About the project, what you can do, where to find things\">Community portal</a></li><li id=\"n-recentchanges\"><a accesskey=\"r\" href=\"/wiki/Special:RecentChanges\" title=\"A list of recent changes to Wikipedia [r]\">Recent changes</a></li><li id=\"n-upload\"><a href=\"/wiki/Wikipedia:File_Upload_Wizard\" title=\"Add images or other media for use on Wikipedia\">Upload file</a></li></ul>\n</div>\n</div>\n<div aria-labelledby=\"p-tb-label\" class=\"vector-menu vector-menu-portal portal\" id=\"p-tb\">\n<h3 id=\"p-tb-label\">\n<span>Tools</span>\n</h3>\n<!-- Please do not use the .body class, it is deprecated. -->\n<div class=\"body vector-menu-content\">\n<!-- Please do not use the .menu class, it is deprecated. -->\n<ul class=\"vector-menu-content-list\"><li id=\"t-whatlinkshere\"><a accesskey=\"j\" href=\"/wiki/Special:WhatLinksHere/List_of_postal_codes_of_Canada:_M\" title=\"List of all English Wikipedia pages containing links to this page [j]\">What links here</a></li><li id=\"t-recentchangeslinked\"><a accesskey=\"k\" href=\"/wiki/Special:RecentChangesLinked/List_of_postal_codes_of_Canada:_M\" rel=\"nofollow\" title=\"Recent changes in pages linked from this page [k]\">Related changes</a></li><li id=\"t-upload\"><a accesskey=\"u\" href=\"/wiki/Wikipedia:File_Upload_Wizard\" title=\"Upload files [u]\">Upload file</a></li><li id=\"t-specialpages\"><a accesskey=\"q\" href=\"/wiki/Special:SpecialPages\" title=\"A list of all special pages [q]\">Special pages</a></li><li id=\"t-permalink\"><a href=\"/w/index.php?title=List_of_postal_codes_of_Canada:_M&amp;oldid=960187814\" title=\"Permanent link to this revision of this page\">Permanent link</a></li><li id=\"t-info\"><a href=\"/w/index.php?title=List_of_postal_codes_of_Canada:_M&amp;action=info\" title=\"More information about this page\">Page information</a></li><li id=\"t-wikibase\"><a accesskey=\"g\" href=\"https://www.wikidata.org/wiki/Special:EntityPage/Q3248240\" title=\"Structured data on this page hosted by Wikidata [g]\">Wikidata item</a></li><li id=\"t-cite\"><a href=\"/w/index.php?title=Special:CiteThisPage&amp;page=List_of_postal_codes_of_Canada%3A_M&amp;id=960187814&amp;wpFormIdentifier=titleform\" title=\"Information on how to cite this page\">Cite this page</a></li></ul>\n</div>\n</div>\n<div aria-labelledby=\"p-lang-label\" class=\"vector-menu vector-menu-portal portal\" id=\"p-lang\">\n<h3 id=\"p-lang-label\">\n<span>Languages</span>\n</h3>\n<!-- Please do not use the .body class, it is deprecated. -->\n<div class=\"body vector-menu-content\">\n<!-- Please do not use the .menu class, it is deprecated. -->\n<ul class=\"vector-menu-content-list\"><li class=\"interlanguage-link interwiki-fr\"><a class=\"interlanguage-link-target\" href=\"https://fr.wikipedia.org/wiki/Liste_des_codes_postaux_canadiens_d%C3%A9butant_par_M\" hreflang=\"fr\" lang=\"fr\" title=\"Liste des codes postaux canadiens d\u00e9butant par M \u2013 French\">Fran\u00e7ais</a></li></ul>\n<div class=\"after-portlet after-portlet-lang\"><span class=\"wb-langlinks-edit wb-langlinks-link\"><a class=\"wbc-editpage\" href=\"https://www.wikidata.org/wiki/Special:EntityPage/Q3248240#sitelinks-wikipedia\" title=\"Edit interlanguage links\">Edit links</a></span></div>\n</div>\n</div>\n<div aria-labelledby=\"p-coll-print_export-label\" class=\"vector-menu vector-menu-portal portal\" id=\"p-coll-print_export\">\n<h3 id=\"p-coll-print_export-label\">\n<span>Print/export</span>\n</h3>\n<!-- Please do not use the .body class, it is deprecated. -->\n<div class=\"body vector-menu-content\">\n<!-- Please do not use the .menu class, it is deprecated. -->\n<ul class=\"vector-menu-content-list\"><li id=\"coll-download-as-rl\"><a href=\"/w/index.php?title=Special:ElectronPdf&amp;page=List+of+postal+codes+of+Canada%3A+M&amp;action=show-download-screen\" title=\"Download this page as a PDF file\">Download as PDF</a></li><li id=\"t-print\"><a accesskey=\"p\" href=\"/w/index.php?title=List_of_postal_codes_of_Canada:_M&amp;printable=yes\" title=\"Printable version of this page [p]\">Printable version</a></li></ul>\n</div>\n</div>\n</div>\n</div>\n<div class=\"mw-footer\" id=\"footer\" role=\"contentinfo\">\n<ul id=\"footer-info\">\n<li id=\"footer-info-lastmod\"> This page was last edited on 1 June 2020, at 15:53<span class=\"anonymous-show\">\u00a0(UTC)</span>.</li>\n<li id=\"footer-info-copyright\">Text is available under the <a href=\"//en.wikipedia.org/wiki/Wikipedia:Text_of_Creative_Commons_Attribution-ShareAlike_3.0_Unported_License\" rel=\"license\">Creative Commons Attribution-ShareAlike License</a><a href=\"//creativecommons.org/licenses/by-sa/3.0/\" rel=\"license\" style=\"display:none;\"></a>;\nadditional terms may apply.  By using this site, you agree to the <a href=\"//foundation.wikimedia.org/wiki/Terms_of_Use\">Terms of Use</a> and <a href=\"//foundation.wikimedia.org/wiki/Privacy_policy\">Privacy Policy</a>. Wikipedia\u00ae is a registered trademark of the <a href=\"//www.wikimediafoundation.org/\">Wikimedia Foundation, Inc.</a>, a non-profit organization.</li>\n</ul>\n<ul id=\"footer-places\">\n<li id=\"footer-places-privacy\"><a class=\"extiw\" href=\"https://foundation.wikimedia.org/wiki/Privacy_policy\" title=\"wmf:Privacy policy\">Privacy policy</a></li>\n<li id=\"footer-places-about\"><a href=\"/wiki/Wikipedia:About\" title=\"Wikipedia:About\">About Wikipedia</a></li>\n<li id=\"footer-places-disclaimer\"><a href=\"/wiki/Wikipedia:General_disclaimer\" title=\"Wikipedia:General disclaimer\">Disclaimers</a></li>\n<li id=\"footer-places-contact\"><a href=\"//en.wikipedia.org/wiki/Wikipedia:Contact_us\">Contact Wikipedia</a></li>\n<li id=\"footer-places-developers\"><a href=\"https://www.mediawiki.org/wiki/Special:MyLanguage/How_to_contribute\">Developers</a></li>\n<li id=\"footer-places-statslink\"><a href=\"https://stats.wikimedia.org/#/en.wikipedia.org\">Statistics</a></li>\n<li id=\"footer-places-cookiestatement\"><a href=\"https://foundation.wikimedia.org/wiki/Cookie_statement\">Cookie statement</a></li>\n<li id=\"footer-places-mobileview\"><a class=\"noprint stopMobileRedirectToggle\" href=\"//en.m.wikipedia.org/w/index.php?title=List_of_postal_codes_of_Canada:_M&amp;mobileaction=toggle_view_mobile\">Mobile view</a></li>\n</ul>\n<ul class=\"noprint\" id=\"footer-icons\">\n<li id=\"footer-copyrightico\"><a href=\"https://wikimediafoundation.org/\"><img alt=\"Wikimedia Foundation\" height=\"31\" loading=\"lazy\" src=\"/static/images/wikimedia-button.png\" srcset=\"/static/images/wikimedia-button-1.5x.png 1.5x, /static/images/wikimedia-button-2x.png 2x\" width=\"88\"/></a></li>\n<li id=\"footer-poweredbyico\"><a href=\"https://www.mediawiki.org/\"><img alt=\"Powered by MediaWiki\" height=\"31\" src=\"/static/images/poweredby_mediawiki_88x31.png\" srcset=\"/static/images/poweredby_mediawiki_132x47.png 1.5x, /static/images/poweredby_mediawiki_176x62.png 2x\" width=\"88\"/></a></li>\n</ul>\n<div style=\"clear: both;\"></div>\n</div>\n<script>(RLQ=window.RLQ||[]).push(function(){mw.config.set({\"wgPageParseReport\":{\"limitreport\":{\"cputime\":\"0.168\",\"walltime\":\"0.222\",\"ppvisitednodes\":{\"value\":257,\"limit\":1000000},\"postexpandincludesize\":{\"value\":10511,\"limit\":2097152},\"templateargumentsize\":{\"value\":195,\"limit\":2097152},\"expansiondepth\":{\"value\":8,\"limit\":40},\"expensivefunctioncount\":{\"value\":0,\"limit\":500},\"unstrip-depth\":{\"value\":1,\"limit\":20},\"unstrip-size\":{\"value\":11794,\"limit\":5000000},\"entityaccesscount\":{\"value\":0,\"limit\":400},\"timingprofile\":[\"100.00%  167.944      1 -total\",\" 58.34%   97.981      3 Template:Cite_web\",\" 32.28%   54.205      1 Template:Short_description\",\" 22.85%   38.377      1 Template:Pagetype\",\"  4.01%    6.739      1 Template:Canadian_postal_codes\",\"  2.04%    3.428      1 Template:Main_other\"]},\"scribunto\":{\"limitreport-timeusage\":{\"value\":\"0.083\",\"limit\":\"10.000\"},\"limitreport-memusage\":{\"value\":2442560,\"limit\":52428800}},\"cachereport\":{\"origin\":\"mw1332\",\"timestamp\":\"20200614170517\",\"ttl\":2592000,\"transientcontent\":false}}});});</script>\n<script type=\"application/ld+json\">{\"@context\":\"https:\\/\\/schema.org\",\"@type\":\"Article\",\"name\":\"List of postal codes of Canada: M\",\"url\":\"https:\\/\\/en.wikipedia.org\\/wiki\\/List_of_postal_codes_of_Canada:_M\",\"sameAs\":\"http:\\/\\/www.wikidata.org\\/entity\\/Q3248240\",\"mainEntity\":\"http:\\/\\/www.wikidata.org\\/entity\\/Q3248240\",\"author\":{\"@type\":\"Organization\",\"name\":\"Contributors to Wikimedia projects\"},\"publisher\":{\"@type\":\"Organization\",\"name\":\"Wikimedia Foundation, Inc.\",\"logo\":{\"@type\":\"ImageObject\",\"url\":\"https:\\/\\/www.wikimedia.org\\/static\\/images\\/wmf-hor-googpub.png\"}},\"datePublished\":\"2004-03-20T10:02:13Z\",\"dateModified\":\"2020-06-01T15:53:48Z\",\"headline\":\"Wikimedia list article\"}</script>\n<script>(RLQ=window.RLQ||[]).push(function(){mw.config.set({\"wgBackendResponseTime\":375,\"wgHostname\":\"mw1332\"});});</script></body></html>"
                    },
                    "execution_count": 4,
                    "metadata": {},
                    "output_type": "execute_result"
                }
            ],
            "source": "page=bsoup(r.text,\"html.parser\")\npage"
        },
        {
            "cell_type": "markdown",
            "metadata": {},
            "source": "## 'The htlm 'page' indicates that there is a 'table class' - let's find that table"
        },
        {
            "cell_type": "code",
            "execution_count": 5,
            "metadata": {},
            "outputs": [
                {
                    "data": {
                        "text/plain": "<table class=\"wikitable sortable\">\n<tbody><tr>\n<th>Postal Code\n</th>\n<th>Borough\n</th>\n<th>Neighborhood\n</th></tr>\n<tr>\n<td>M1A\n</td>\n<td>Not assigned\n</td>\n<td>Not assigned\n</td></tr>\n<tr>\n<td>M2A\n</td>\n<td>Not assigned\n</td>\n<td>Not assigned\n</td></tr>\n<tr>\n<td>M3A\n</td>\n<td>North York\n</td>\n<td>Parkwoods\n</td></tr>\n<tr>\n<td>M4A\n</td>\n<td>North York\n</td>\n<td>Victoria Village\n</td></tr>\n<tr>\n<td>M5A\n</td>\n<td>Downtown Toronto\n</td>\n<td>Regent Park, Harbourfront\n</td></tr>\n<tr>\n<td>M6A\n</td>\n<td>North York\n</td>\n<td>Lawrence Manor, Lawrence Heights\n</td></tr>\n<tr>\n<td>M7A\n</td>\n<td>Downtown Toronto\n</td>\n<td>Queen's Park, Ontario Provincial Government\n</td></tr>\n<tr>\n<td>M8A\n</td>\n<td>Not assigned\n</td>\n<td>Not assigned\n</td></tr>\n<tr>\n<td>M9A\n</td>\n<td>Etobicoke\n</td>\n<td>Islington Avenue, Humber Valley Village\n</td></tr>\n<tr>\n<td>M1B\n</td>\n<td>Scarborough\n</td>\n<td>Malvern, Rouge\n</td></tr>\n<tr>\n<td>M2B\n</td>\n<td>Not assigned\n</td>\n<td>Not assigned\n</td></tr>\n<tr>\n<td>M3B\n</td>\n<td>North York\n</td>\n<td>Don Mills\n</td></tr>\n<tr>\n<td>M4B\n</td>\n<td>East York\n</td>\n<td>Parkview Hill, Woodbine Gardens\n</td></tr>\n<tr>\n<td>M5B\n</td>\n<td>Downtown Toronto\n</td>\n<td>Garden District, Ryerson\n</td></tr>\n<tr>\n<td>M6B\n</td>\n<td>North York\n</td>\n<td>Glencairn\n</td></tr>\n<tr>\n<td>M7B\n</td>\n<td>Not assigned\n</td>\n<td>Not assigned\n</td></tr>\n<tr>\n<td>M8B\n</td>\n<td>Not assigned\n</td>\n<td>Not assigned\n</td></tr>\n<tr>\n<td>M9B\n</td>\n<td>Etobicoke\n</td>\n<td>West Deane Park, Princess Gardens, Martin Grove, Islington, Cloverdale\n</td></tr>\n<tr>\n<td>M1C\n</td>\n<td>Scarborough\n</td>\n<td>Rouge Hill, Port Union, Highland Creek\n</td></tr>\n<tr>\n<td>M2C\n</td>\n<td>Not assigned\n</td>\n<td>Not assigned\n</td></tr>\n<tr>\n<td>M3C\n</td>\n<td>North York\n</td>\n<td>Don Mills\n</td></tr>\n<tr>\n<td>M4C\n</td>\n<td>East York\n</td>\n<td>Woodbine Heights\n</td></tr>\n<tr>\n<td>M5C\n</td>\n<td>Downtown Toronto\n</td>\n<td>St. James Town\n</td></tr>\n<tr>\n<td>M6C\n</td>\n<td>York\n</td>\n<td>Humewood-Cedarvale\n</td></tr>\n<tr>\n<td>M7C\n</td>\n<td>Not assigned\n</td>\n<td>Not assigned\n</td></tr>\n<tr>\n<td>M8C\n</td>\n<td>Not assigned\n</td>\n<td>Not assigned\n</td></tr>\n<tr>\n<td>M9C\n</td>\n<td>Etobicoke\n</td>\n<td>Eringate, Bloordale Gardens, Old Burnhamthorpe, Markland Wood\n</td></tr>\n<tr>\n<td>M1E\n</td>\n<td>Scarborough\n</td>\n<td>Guildwood, Morningside, West Hill\n</td></tr>\n<tr>\n<td>M2E\n</td>\n<td>Not assigned\n</td>\n<td>Not assigned\n</td></tr>\n<tr>\n<td>M3E\n</td>\n<td>Not assigned\n</td>\n<td>Not assigned\n</td></tr>\n<tr>\n<td>M4E\n</td>\n<td>East Toronto\n</td>\n<td>The Beaches\n</td></tr>\n<tr>\n<td>M5E\n</td>\n<td>Downtown Toronto\n</td>\n<td>Berczy Park\n</td></tr>\n<tr>\n<td>M6E\n</td>\n<td>York\n</td>\n<td>Caledonia-Fairbanks\n</td></tr>\n<tr>\n<td>M7E\n</td>\n<td>Not assigned\n</td>\n<td>Not assigned\n</td></tr>\n<tr>\n<td>M8E\n</td>\n<td>Not assigned\n</td>\n<td>Not assigned\n</td></tr>\n<tr>\n<td>M9E\n</td>\n<td>Not assigned\n</td>\n<td>Not assigned\n</td></tr>\n<tr>\n<td>M1G\n</td>\n<td>Scarborough\n</td>\n<td>Woburn\n</td></tr>\n<tr>\n<td>M2G\n</td>\n<td>Not assigned\n</td>\n<td>Not assigned\n</td></tr>\n<tr>\n<td>M3G\n</td>\n<td>Not assigned\n</td>\n<td>Not assigned\n</td></tr>\n<tr>\n<td>M4G\n</td>\n<td>East York\n</td>\n<td>Leaside\n</td></tr>\n<tr>\n<td>M5G\n</td>\n<td>Downtown Toronto\n</td>\n<td>Central Bay Street\n</td></tr>\n<tr>\n<td>M6G\n</td>\n<td>Downtown Toronto\n</td>\n<td>Christie\n</td></tr>\n<tr>\n<td>M7G\n</td>\n<td>Not assigned\n</td>\n<td>Not assigned\n</td></tr>\n<tr>\n<td>M8G\n</td>\n<td>Not assigned\n</td>\n<td>Not assigned\n</td></tr>\n<tr>\n<td>M9G\n</td>\n<td>Not assigned\n</td>\n<td>Not assigned\n</td></tr>\n<tr>\n<td>M1H\n</td>\n<td>Scarborough\n</td>\n<td>Cedarbrae\n</td></tr>\n<tr>\n<td>M2H\n</td>\n<td>North York\n</td>\n<td>Hillcrest Village\n</td></tr>\n<tr>\n<td>M3H\n</td>\n<td>North York\n</td>\n<td>Bathurst Manor, Wilson Heights, Downsview North\n</td></tr>\n<tr>\n<td>M4H\n</td>\n<td>East York\n</td>\n<td>Thorncliffe Park\n</td></tr>\n<tr>\n<td>M5H\n</td>\n<td>Downtown Toronto\n</td>\n<td>Richmond, Adelaide, King\n</td></tr>\n<tr>\n<td>M6H\n</td>\n<td>West Toronto\n</td>\n<td>Dufferin, Dovercourt Village\n</td></tr>\n<tr>\n<td>M7H\n</td>\n<td>Not assigned\n</td>\n<td>Not assigned\n</td></tr>\n<tr>\n<td>M8H\n</td>\n<td>Not assigned\n</td>\n<td>Not assigned\n</td></tr>\n<tr>\n<td>M9H\n</td>\n<td>Not assigned\n</td>\n<td>Not assigned\n</td></tr>\n<tr>\n<td>M1J\n</td>\n<td>Scarborough\n</td>\n<td>Scarborough Village\n</td></tr>\n<tr>\n<td>M2J\n</td>\n<td>North York\n</td>\n<td>Fairview, Henry Farm, Oriole\n</td></tr>\n<tr>\n<td>M3J\n</td>\n<td>North York\n</td>\n<td>Northwood Park, York University\n</td></tr>\n<tr>\n<td>M4J\n</td>\n<td>East York\n</td>\n<td>East Toronto, Broadview North (Old East York)\n</td></tr>\n<tr>\n<td>M5J\n</td>\n<td>Downtown Toronto\n</td>\n<td>Harbourfront East, Union Station, Toronto Islands\n</td></tr>\n<tr>\n<td>M6J\n</td>\n<td>West Toronto\n</td>\n<td>Little Portugal, Trinity\n</td></tr>\n<tr>\n<td>M7J\n</td>\n<td>Not assigned\n</td>\n<td>Not assigned\n</td></tr>\n<tr>\n<td>M8J\n</td>\n<td>Not assigned\n</td>\n<td>Not assigned\n</td></tr>\n<tr>\n<td>M9J\n</td>\n<td>Not assigned\n</td>\n<td>Not assigned\n</td></tr>\n<tr>\n<td>M1K\n</td>\n<td>Scarborough\n</td>\n<td>Kennedy Park, Ionview, East Birchmount Park\n</td></tr>\n<tr>\n<td>M2K\n</td>\n<td>North York\n</td>\n<td>Bayview Village\n</td></tr>\n<tr>\n<td>M3K\n</td>\n<td>North York\n</td>\n<td>Downsview\n</td></tr>\n<tr>\n<td>M4K\n</td>\n<td>East Toronto\n</td>\n<td>The Danforth West, Riverdale\n</td></tr>\n<tr>\n<td>M5K\n</td>\n<td>Downtown Toronto\n</td>\n<td>Toronto Dominion Centre, Design Exchange\n</td></tr>\n<tr>\n<td>M6K\n</td>\n<td>West Toronto\n</td>\n<td>Brockton, Parkdale Village, Exhibition Place\n</td></tr>\n<tr>\n<td>M7K\n</td>\n<td>Not assigned\n</td>\n<td>Not assigned\n</td></tr>\n<tr>\n<td>M8K\n</td>\n<td>Not assigned\n</td>\n<td>Not assigned\n</td></tr>\n<tr>\n<td>M9K\n</td>\n<td>Not assigned\n</td>\n<td>Not assigned\n</td></tr>\n<tr>\n<td>M1L\n</td>\n<td>Scarborough\n</td>\n<td>Golden Mile, Clairlea, Oakridge\n</td></tr>\n<tr>\n<td>M2L\n</td>\n<td>North York\n</td>\n<td>York Mills, Silver Hills\n</td></tr>\n<tr>\n<td>M3L\n</td>\n<td>North York\n</td>\n<td>Downsview\n</td></tr>\n<tr>\n<td>M4L\n</td>\n<td>East Toronto\n</td>\n<td>India Bazaar, The Beaches West\n</td></tr>\n<tr>\n<td>M5L\n</td>\n<td>Downtown Toronto\n</td>\n<td>Commerce Court, Victoria Hotel\n</td></tr>\n<tr>\n<td>M6L\n</td>\n<td>North York\n</td>\n<td>North Park, Maple Leaf Park, Upwood Park\n</td></tr>\n<tr>\n<td>M7L\n</td>\n<td>Not assigned\n</td>\n<td>Not assigned\n</td></tr>\n<tr>\n<td>M8L\n</td>\n<td>Not assigned\n</td>\n<td>Not assigned\n</td></tr>\n<tr>\n<td>M9L\n</td>\n<td>North York\n</td>\n<td>Humber Summit\n</td></tr>\n<tr>\n<td>M1M\n</td>\n<td>Scarborough\n</td>\n<td>Cliffside, Cliffcrest, Scarborough Village West\n</td></tr>\n<tr>\n<td>M2M\n</td>\n<td>North York\n</td>\n<td>Willowdale, Newtonbrook\n</td></tr>\n<tr>\n<td>M3M\n</td>\n<td>North York\n</td>\n<td>Downsview\n</td></tr>\n<tr>\n<td>M4M\n</td>\n<td>East Toronto\n</td>\n<td>Studio District\n</td></tr>\n<tr>\n<td>M5M\n</td>\n<td>North York\n</td>\n<td>Bedford Park, Lawrence Manor East\n</td></tr>\n<tr>\n<td>M6M\n</td>\n<td>York\n</td>\n<td>Del Ray, Mount Dennis, Keelsdale and Silverthorn\n</td></tr>\n<tr>\n<td>M7M\n</td>\n<td>Not assigned\n</td>\n<td>Not assigned\n</td></tr>\n<tr>\n<td>M8M\n</td>\n<td>Not assigned\n</td>\n<td>Not assigned\n</td></tr>\n<tr>\n<td>M9M\n</td>\n<td>North York\n</td>\n<td>Humberlea, Emery\n</td></tr>\n<tr>\n<td>M1N\n</td>\n<td>Scarborough\n</td>\n<td>Birch Cliff, Cliffside West\n</td></tr>\n<tr>\n<td>M2N\n</td>\n<td>North York\n</td>\n<td>Willowdale, Willowdale East\n</td></tr>\n<tr>\n<td>M3N\n</td>\n<td>North York\n</td>\n<td>Downsview\n</td></tr>\n<tr>\n<td>M4N\n</td>\n<td>Central Toronto\n</td>\n<td>Lawrence Park\n</td></tr>\n<tr>\n<td>M5N\n</td>\n<td>Central Toronto\n</td>\n<td>Roselawn\n</td></tr>\n<tr>\n<td>M6N\n</td>\n<td>York\n</td>\n<td>Runnymede, The Junction North\n</td></tr>\n<tr>\n<td>M7N\n</td>\n<td>Not assigned\n</td>\n<td>Not assigned\n</td></tr>\n<tr>\n<td>M8N\n</td>\n<td>Not assigned\n</td>\n<td>Not assigned\n</td></tr>\n<tr>\n<td>M9N\n</td>\n<td>York\n</td>\n<td>Weston\n</td></tr>\n<tr>\n<td>M1P\n</td>\n<td>Scarborough\n</td>\n<td>Dorset Park, Wexford Heights, Scarborough Town Centre\n</td></tr>\n<tr>\n<td>M2P\n</td>\n<td>North York\n</td>\n<td>York Mills West\n</td></tr>\n<tr>\n<td>M3P\n</td>\n<td>Not assigned\n</td>\n<td>Not assigned\n</td></tr>\n<tr>\n<td>M4P\n</td>\n<td>Central Toronto\n</td>\n<td>Davisville North\n</td></tr>\n<tr>\n<td>M5P\n</td>\n<td>Central Toronto\n</td>\n<td>Forest Hill North &amp; West, Forest Hill Road Park\n</td></tr>\n<tr>\n<td>M6P\n</td>\n<td>West Toronto\n</td>\n<td>High Park, The Junction South\n</td></tr>\n<tr>\n<td>M7P\n</td>\n<td>Not assigned\n</td>\n<td>Not assigned\n</td></tr>\n<tr>\n<td>M8P\n</td>\n<td>Not assigned\n</td>\n<td>Not assigned\n</td></tr>\n<tr>\n<td>M9P\n</td>\n<td>Etobicoke\n</td>\n<td>Westmount\n</td></tr>\n<tr>\n<td>M1R\n</td>\n<td>Scarborough\n</td>\n<td>Wexford, Maryvale\n</td></tr>\n<tr>\n<td>M2R\n</td>\n<td>North York\n</td>\n<td>Willowdale, Willowdale West\n</td></tr>\n<tr>\n<td>M3R\n</td>\n<td>Not assigned\n</td>\n<td>Not assigned\n</td></tr>\n<tr>\n<td>M4R\n</td>\n<td>Central Toronto\n</td>\n<td>North Toronto West,  Lawrence Park\n</td></tr>\n<tr>\n<td>M5R\n</td>\n<td>Central Toronto\n</td>\n<td>The Annex, North Midtown, Yorkville\n</td></tr>\n<tr>\n<td>M6R\n</td>\n<td>West Toronto\n</td>\n<td>Parkdale, Roncesvalles\n</td></tr>\n<tr>\n<td>M7R\n</td>\n<td>Mississauga\n</td>\n<td>Canada Post Gateway Processing Centre\n</td></tr>\n<tr>\n<td>M8R\n</td>\n<td>Not assigned\n</td>\n<td>Not assigned\n</td></tr>\n<tr>\n<td>M9R\n</td>\n<td>Etobicoke\n</td>\n<td>Kingsview Village, St. Phillips, Martin Grove Gardens, Richview Gardens\n</td></tr>\n<tr>\n<td>M1S\n</td>\n<td>Scarborough\n</td>\n<td>Agincourt\n</td></tr>\n<tr>\n<td>M2S\n</td>\n<td>Not assigned\n</td>\n<td>Not assigned\n</td></tr>\n<tr>\n<td>M3S\n</td>\n<td>Not assigned\n</td>\n<td>Not assigned\n</td></tr>\n<tr>\n<td>M4S\n</td>\n<td>Central Toronto\n</td>\n<td>Davisville\n</td></tr>\n<tr>\n<td>M5S\n</td>\n<td>Downtown Toronto\n</td>\n<td>University of Toronto, Harbord\n</td></tr>\n<tr>\n<td>M6S\n</td>\n<td>West Toronto\n</td>\n<td>Runnymede, Swansea\n</td></tr>\n<tr>\n<td>M7S\n</td>\n<td>Not assigned\n</td>\n<td>Not assigned\n</td></tr>\n<tr>\n<td>M8S\n</td>\n<td>Not assigned\n</td>\n<td>Not assigned\n</td></tr>\n<tr>\n<td>M9S\n</td>\n<td>Not assigned\n</td>\n<td>Not assigned\n</td></tr>\n<tr>\n<td>M1T\n</td>\n<td>Scarborough\n</td>\n<td>Clarks Corners, Tam O'Shanter, Sullivan\n</td></tr>\n<tr>\n<td>M2T\n</td>\n<td>Not assigned\n</td>\n<td>Not assigned\n</td></tr>\n<tr>\n<td>M3T\n</td>\n<td>Not assigned\n</td>\n<td>Not assigned\n</td></tr>\n<tr>\n<td>M4T\n</td>\n<td>Central Toronto\n</td>\n<td>Moore Park, Summerhill East\n</td></tr>\n<tr>\n<td>M5T\n</td>\n<td>Downtown Toronto\n</td>\n<td>Kensington Market, Chinatown, Grange Park\n</td></tr>\n<tr>\n<td>M6T\n</td>\n<td>Not assigned\n</td>\n<td>Not assigned\n</td></tr>\n<tr>\n<td>M7T\n</td>\n<td>Not assigned\n</td>\n<td>Not assigned\n</td></tr>\n<tr>\n<td>M8T\n</td>\n<td>Not assigned\n</td>\n<td>Not assigned\n</td></tr>\n<tr>\n<td>M9T\n</td>\n<td>Not assigned\n</td>\n<td>Not assigned\n</td></tr>\n<tr>\n<td>M1V\n</td>\n<td>Scarborough\n</td>\n<td>Milliken, Agincourt North, Steeles East, L'Amoreaux East\n</td></tr>\n<tr>\n<td>M2V\n</td>\n<td>Not assigned\n</td>\n<td>Not assigned\n</td></tr>\n<tr>\n<td>M3V\n</td>\n<td>Not assigned\n</td>\n<td>Not assigned\n</td></tr>\n<tr>\n<td>M4V\n</td>\n<td>Central Toronto\n</td>\n<td>Summerhill West, Rathnelly, South Hill, Forest Hill SE, Deer Park\n</td></tr>\n<tr>\n<td>M5V\n</td>\n<td>Downtown Toronto\n</td>\n<td>CN Tower, King and Spadina, Railway Lands, Harbourfront West, Bathurst Quay, South Niagara, Island airport\n</td></tr>\n<tr>\n<td>M6V\n</td>\n<td>Not assigned\n</td>\n<td>Not assigned\n</td></tr>\n<tr>\n<td>M7V\n</td>\n<td>Not assigned\n</td>\n<td>Not assigned\n</td></tr>\n<tr>\n<td>M8V\n</td>\n<td>Etobicoke\n</td>\n<td>New Toronto, Mimico South, Humber Bay Shores\n</td></tr>\n<tr>\n<td>M9V\n</td>\n<td>Etobicoke\n</td>\n<td>South Steeles, Silverstone, Humbergate, Jamestown, Mount Olive, Beaumond Heights, Thistletown, Albion Gardens\n</td></tr>\n<tr>\n<td>M1W\n</td>\n<td>Scarborough\n</td>\n<td>Steeles West, L'Amoreaux West\n</td></tr>\n<tr>\n<td>M2W\n</td>\n<td>Not assigned\n</td>\n<td>Not assigned\n</td></tr>\n<tr>\n<td>M3W\n</td>\n<td>Not assigned\n</td>\n<td>Not assigned\n</td></tr>\n<tr>\n<td>M4W\n</td>\n<td>Downtown Toronto\n</td>\n<td>Rosedale\n</td></tr>\n<tr>\n<td>M5W\n</td>\n<td>Downtown Toronto\n</td>\n<td>Stn A PO Boxes\n</td></tr>\n<tr>\n<td>M6W\n</td>\n<td>Not assigned\n</td>\n<td>Not assigned\n</td></tr>\n<tr>\n<td>M7W\n</td>\n<td>Not assigned\n</td>\n<td>Not assigned\n</td></tr>\n<tr>\n<td>M8W\n</td>\n<td>Etobicoke\n</td>\n<td>Alderwood, Long Branch\n</td></tr>\n<tr>\n<td>M9W\n</td>\n<td>Etobicoke\n</td>\n<td>Northwest, West Humber - Clairville\n</td></tr>\n<tr>\n<td>M1X\n</td>\n<td>Scarborough\n</td>\n<td>Upper Rouge\n</td></tr>\n<tr>\n<td>M2X\n</td>\n<td>Not assigned\n</td>\n<td>Not assigned\n</td></tr>\n<tr>\n<td>M3X\n</td>\n<td>Not assigned\n</td>\n<td>Not assigned\n</td></tr>\n<tr>\n<td>M4X\n</td>\n<td>Downtown Toronto\n</td>\n<td>St. James Town, Cabbagetown\n</td></tr>\n<tr>\n<td>M5X\n</td>\n<td>Downtown Toronto\n</td>\n<td>First Canadian Place, Underground city\n</td></tr>\n<tr>\n<td>M6X\n</td>\n<td>Not assigned\n</td>\n<td>Not assigned\n</td></tr>\n<tr>\n<td>M7X\n</td>\n<td>Not assigned\n</td>\n<td>Not assigned\n</td></tr>\n<tr>\n<td>M8X\n</td>\n<td>Etobicoke\n</td>\n<td>The Kingsway, Montgomery Road, Old Mill North\n</td></tr>\n<tr>\n<td>M9X\n</td>\n<td>Not assigned\n</td>\n<td>Not assigned\n</td></tr>\n<tr>\n<td>M1Y\n</td>\n<td>Not assigned\n</td>\n<td>Not assigned\n</td></tr>\n<tr>\n<td>M2Y\n</td>\n<td>Not assigned\n</td>\n<td>Not assigned\n</td></tr>\n<tr>\n<td>M3Y\n</td>\n<td>Not assigned\n</td>\n<td>Not assigned\n</td></tr>\n<tr>\n<td>M4Y\n</td>\n<td>Downtown Toronto\n</td>\n<td>Church and Wellesley\n</td></tr>\n<tr>\n<td>M5Y\n</td>\n<td>Not assigned\n</td>\n<td>Not assigned\n</td></tr>\n<tr>\n<td>M6Y\n</td>\n<td>Not assigned\n</td>\n<td>Not assigned\n</td></tr>\n<tr>\n<td>M7Y\n</td>\n<td>East Toronto\n</td>\n<td>Business reply mail Processing Centre, South Central Letter Processing Plant Toronto\n</td></tr>\n<tr>\n<td>M8Y\n</td>\n<td>Etobicoke\n</td>\n<td>Old Mill South, King's Mill Park, Sunnylea, Humber Bay, Mimico NE, The Queensway East, Royal York South East, Kingsway Park South East\n</td></tr>\n<tr>\n<td>M9Y\n</td>\n<td>Not assigned\n</td>\n<td>Not assigned\n</td></tr>\n<tr>\n<td>M1Z\n</td>\n<td>Not assigned\n</td>\n<td>Not assigned\n</td></tr>\n<tr>\n<td>M2Z\n</td>\n<td>Not assigned\n</td>\n<td>Not assigned\n</td></tr>\n<tr>\n<td>M3Z\n</td>\n<td>Not assigned\n</td>\n<td>Not assigned\n</td></tr>\n<tr>\n<td>M4Z\n</td>\n<td>Not assigned\n</td>\n<td>Not assigned\n</td></tr>\n<tr>\n<td>M5Z\n</td>\n<td>Not assigned\n</td>\n<td>Not assigned\n</td></tr>\n<tr>\n<td>M6Z\n</td>\n<td>Not assigned\n</td>\n<td>Not assigned\n</td></tr>\n<tr>\n<td>M7Z\n</td>\n<td>Not assigned\n</td>\n<td>Not assigned\n</td></tr>\n<tr>\n<td>M8Z\n</td>\n<td>Etobicoke\n</td>\n<td>Mimico NW, The Queensway West, South of Bloor, Kingsway Park South West, Royal York South West\n</td></tr>\n<tr>\n<td>M9Z\n</td>\n<td>Not assigned\n</td>\n<td>Not assigned\n</td></tr></tbody></table>"
                    },
                    "execution_count": 5,
                    "metadata": {},
                    "output_type": "execute_result"
                }
            ],
            "source": "rtable=page.table\nrtable"
        },
        {
            "cell_type": "code",
            "execution_count": 6,
            "metadata": {},
            "outputs": [
                {
                    "data": {
                        "text/plain": "181"
                    },
                    "execution_count": 6,
                    "metadata": {},
                    "output_type": "execute_result"
                }
            ],
            "source": "results=rtable.find_all('tr')\nnrows=len(results)\nnrows"
        },
        {
            "cell_type": "markdown",
            "metadata": {},
            "source": "## Such table (named 'results' contains 181 rows. The first tow is the table header.\n## There are 181 rows of data"
        },
        {
            "cell_type": "code",
            "execution_count": 7,
            "metadata": {},
            "outputs": [
                {
                    "data": {
                        "text/plain": "[<tr>\n <th>Postal Code\n </th>\n <th>Borough\n </th>\n <th>Neighborhood\n </th></tr>, <tr>\n <td>M1A\n </td>\n <td>Not assigned\n </td>\n <td>Not assigned\n </td></tr>, <tr>\n <td>M2A\n </td>\n <td>Not assigned\n </td>\n <td>Not assigned\n </td></tr>, <tr>\n <td>M3A\n </td>\n <td>North York\n </td>\n <td>Parkwoods\n </td></tr>, <tr>\n <td>M4A\n </td>\n <td>North York\n </td>\n <td>Victoria Village\n </td></tr>]"
                    },
                    "execution_count": 7,
                    "metadata": {},
                    "output_type": "execute_result"
                }
            ],
            "source": "results[0:5]"
        },
        {
            "cell_type": "markdown",
            "metadata": {},
            "source": "### The Header of the DataFrame is the first row of data [index 0]"
        },
        {
            "cell_type": "code",
            "execution_count": 8,
            "metadata": {},
            "outputs": [
                {
                    "data": {
                        "text/plain": "['Postal', 'Code', 'Borough', 'Neighborhood']"
                    },
                    "execution_count": 8,
                    "metadata": {},
                    "output_type": "execute_result"
                }
            ],
            "source": "header=results[0].text.split()\nheader"
        },
        {
            "cell_type": "markdown",
            "metadata": {},
            "source": "### Let's check some rows in order to prepare to build the loop that will extract all cells into a DataFrame. For example, let's examine row 33"
        },
        {
            "cell_type": "code",
            "execution_count": 9,
            "metadata": {},
            "outputs": [
                {
                    "data": {
                        "text/plain": "'\\nM6E\\n\\nYork\\n\\nCaledonia-Fairbanks\\n'"
                    },
                    "execution_count": 9,
                    "metadata": {},
                    "output_type": "execute_result"
                }
            ],
            "source": "results[33].text"
        },
        {
            "cell_type": "code",
            "execution_count": 10,
            "metadata": {},
            "outputs": [
                {
                    "data": {
                        "text/plain": "['', 'M6E', '', 'York', '', 'Caledonia-Fairbanks', '']"
                    },
                    "execution_count": 10,
                    "metadata": {},
                    "output_type": "execute_result"
                }
            ],
            "source": "results[33].text.split('\\n')"
        },
        {
            "cell_type": "code",
            "execution_count": 11,
            "metadata": {},
            "outputs": [
                {
                    "data": {
                        "text/plain": "['', 'M6E', '', 'York', '', 'Caledonia-Fairbanks', '']"
                    },
                    "execution_count": 11,
                    "metadata": {},
                    "output_type": "execute_result"
                }
            ],
            "source": "results[33].text.split('\\n')"
        },
        {
            "cell_type": "code",
            "execution_count": 14,
            "metadata": {},
            "outputs": [
                {
                    "data": {
                        "text/plain": "'M6E'"
                    },
                    "execution_count": 14,
                    "metadata": {},
                    "output_type": "execute_result"
                }
            ],
            "source": "Postcode=results[33].text.split('\\n')[1]\nPostcode"
        },
        {
            "cell_type": "code",
            "execution_count": 15,
            "metadata": {},
            "outputs": [
                {
                    "data": {
                        "text/plain": "''"
                    },
                    "execution_count": 15,
                    "metadata": {},
                    "output_type": "execute_result"
                }
            ],
            "source": "Borough=results[33].text.split('\\n')[2]\nBorough"
        },
        {
            "cell_type": "code",
            "execution_count": 16,
            "metadata": {},
            "outputs": [
                {
                    "data": {
                        "text/plain": "'York'"
                    },
                    "execution_count": 16,
                    "metadata": {},
                    "output_type": "execute_result"
                }
            ],
            "source": "Neighborhood=results[33].text.split('\\n')[3]\nNeighborhood"
        },
        {
            "cell_type": "markdown",
            "metadata": {},
            "source": "## Iteration loop to extract all cells into a dataframe df"
        },
        {
            "cell_type": "code",
            "execution_count": 17,
            "metadata": {},
            "outputs": [
                {
                    "data": {
                        "text/html": "<div>\n<style scoped>\n    .dataframe tbody tr th:only-of-type {\n        vertical-align: middle;\n    }\n\n    .dataframe tbody tr th {\n        vertical-align: top;\n    }\n\n    .dataframe thead th {\n        text-align: right;\n    }\n</style>\n<table border=\"1\" class=\"dataframe\">\n  <thead>\n    <tr style=\"text-align: right;\">\n      <th></th>\n      <th>PostalCode</th>\n      <th>Borough</th>\n      <th>Neighbourhood</th>\n    </tr>\n  </thead>\n  <tbody>\n    <tr>\n      <th>0</th>\n      <td>M1A</td>\n      <td></td>\n      <td>Not assigned</td>\n    </tr>\n    <tr>\n      <th>1</th>\n      <td>M2A</td>\n      <td></td>\n      <td>Not assigned</td>\n    </tr>\n    <tr>\n      <th>2</th>\n      <td>M3A</td>\n      <td></td>\n      <td>North York</td>\n    </tr>\n    <tr>\n      <th>3</th>\n      <td>M4A</td>\n      <td></td>\n      <td>North York</td>\n    </tr>\n    <tr>\n      <th>4</th>\n      <td>M5A</td>\n      <td></td>\n      <td>Downtown Toronto</td>\n    </tr>\n  </tbody>\n</table>\n</div>",
                        "text/plain": "  PostalCode Borough     Neighbourhood\n0        M1A              Not assigned\n1        M2A              Not assigned\n2        M3A                North York\n3        M4A                North York\n4        M5A          Downtown Toronto"
                    },
                    "execution_count": 17,
                    "metadata": {},
                    "output_type": "execute_result"
                }
            ],
            "source": "records =[]\nn=1\nwhile n < nrows :\n    Postcode=results[n].text.split('\\n')[1]\n    Borough=results[n].text.split('\\n')[2]\n    Neighborhood=results[n].text.split('\\n')[3]\n    records.append((Postcode, Borough,Neighborhood))\n    n=n+1\n\ndf=pd.DataFrame(records, columns=['PostalCode', 'Borough', 'Neighbourhood'])\ndf.head(5)"
        },
        {
            "cell_type": "code",
            "execution_count": 18,
            "metadata": {},
            "outputs": [
                {
                    "data": {
                        "text/plain": "(180, 3)"
                    },
                    "execution_count": 18,
                    "metadata": {},
                    "output_type": "execute_result"
                }
            ],
            "source": "df.shape"
        },
        {
            "cell_type": "markdown",
            "metadata": {},
            "source": "## Check the tail of dataframe to assure all data is included as in Wikipedia table"
        },
        {
            "cell_type": "code",
            "execution_count": 19,
            "metadata": {},
            "outputs": [
                {
                    "data": {
                        "text/html": "<div>\n<style scoped>\n    .dataframe tbody tr th:only-of-type {\n        vertical-align: middle;\n    }\n\n    .dataframe tbody tr th {\n        vertical-align: top;\n    }\n\n    .dataframe thead th {\n        text-align: right;\n    }\n</style>\n<table border=\"1\" class=\"dataframe\">\n  <thead>\n    <tr style=\"text-align: right;\">\n      <th></th>\n      <th>PostalCode</th>\n      <th>Borough</th>\n      <th>Neighbourhood</th>\n    </tr>\n  </thead>\n  <tbody>\n    <tr>\n      <th>175</th>\n      <td>M5Z</td>\n      <td></td>\n      <td>Not assigned</td>\n    </tr>\n    <tr>\n      <th>176</th>\n      <td>M6Z</td>\n      <td></td>\n      <td>Not assigned</td>\n    </tr>\n    <tr>\n      <th>177</th>\n      <td>M7Z</td>\n      <td></td>\n      <td>Not assigned</td>\n    </tr>\n    <tr>\n      <th>178</th>\n      <td>M8Z</td>\n      <td></td>\n      <td>Etobicoke</td>\n    </tr>\n    <tr>\n      <th>179</th>\n      <td>M9Z</td>\n      <td></td>\n      <td>Not assigned</td>\n    </tr>\n  </tbody>\n</table>\n</div>",
                        "text/plain": "    PostalCode Borough Neighbourhood\n175        M5Z          Not assigned\n176        M6Z          Not assigned\n177        M7Z          Not assigned\n178        M8Z             Etobicoke\n179        M9Z          Not assigned"
                    },
                    "execution_count": 19,
                    "metadata": {},
                    "output_type": "execute_result"
                }
            ],
            "source": "df.tail()"
        },
        {
            "cell_type": "markdown",
            "metadata": {},
            "source": "### Remove all rows with Borough = 'Not assigned' string"
        },
        {
            "cell_type": "code",
            "execution_count": 20,
            "metadata": {},
            "outputs": [
                {
                    "data": {
                        "text/plain": "PostalCode       0\nBorough          0\nNeighbourhood    0\ndtype: int64"
                    },
                    "execution_count": 20,
                    "metadata": {},
                    "output_type": "execute_result"
                }
            ],
            "source": "df[df['Borough']=='Not assigned'].count()\n"
        },
        {
            "cell_type": "code",
            "execution_count": 21,
            "metadata": {},
            "outputs": [],
            "source": "df1=df[~df.Borough.str.contains(\"Not assigned\")]\ndf1=df1.reset_index(drop=True)"
        },
        {
            "cell_type": "code",
            "execution_count": 22,
            "metadata": {},
            "outputs": [
                {
                    "data": {
                        "text/html": "<div>\n<style scoped>\n    .dataframe tbody tr th:only-of-type {\n        vertical-align: middle;\n    }\n\n    .dataframe tbody tr th {\n        vertical-align: top;\n    }\n\n    .dataframe thead th {\n        text-align: right;\n    }\n</style>\n<table border=\"1\" class=\"dataframe\">\n  <thead>\n    <tr style=\"text-align: right;\">\n      <th></th>\n      <th>PostalCode</th>\n      <th>Borough</th>\n      <th>Neighbourhood</th>\n    </tr>\n  </thead>\n  <tbody>\n    <tr>\n      <th>0</th>\n      <td>M1A</td>\n      <td></td>\n      <td>Not assigned</td>\n    </tr>\n    <tr>\n      <th>1</th>\n      <td>M2A</td>\n      <td></td>\n      <td>Not assigned</td>\n    </tr>\n    <tr>\n      <th>2</th>\n      <td>M3A</td>\n      <td></td>\n      <td>North York</td>\n    </tr>\n    <tr>\n      <th>3</th>\n      <td>M4A</td>\n      <td></td>\n      <td>North York</td>\n    </tr>\n    <tr>\n      <th>4</th>\n      <td>M5A</td>\n      <td></td>\n      <td>Downtown Toronto</td>\n    </tr>\n  </tbody>\n</table>\n</div>",
                        "text/plain": "  PostalCode Borough     Neighbourhood\n0        M1A              Not assigned\n1        M2A              Not assigned\n2        M3A                North York\n3        M4A                North York\n4        M5A          Downtown Toronto"
                    },
                    "execution_count": 22,
                    "metadata": {},
                    "output_type": "execute_result"
                }
            ],
            "source": "df1.head(5)"
        },
        {
            "cell_type": "code",
            "execution_count": 23,
            "metadata": {},
            "outputs": [
                {
                    "data": {
                        "text/html": "<div>\n<style scoped>\n    .dataframe tbody tr th:only-of-type {\n        vertical-align: middle;\n    }\n\n    .dataframe tbody tr th {\n        vertical-align: top;\n    }\n\n    .dataframe thead th {\n        text-align: right;\n    }\n</style>\n<table border=\"1\" class=\"dataframe\">\n  <thead>\n    <tr style=\"text-align: right;\">\n      <th></th>\n      <th>PostalCode</th>\n      <th>Borough</th>\n      <th>Neighbourhood</th>\n    </tr>\n  </thead>\n  <tbody>\n    <tr>\n      <th>175</th>\n      <td>M5Z</td>\n      <td></td>\n      <td>Not assigned</td>\n    </tr>\n    <tr>\n      <th>176</th>\n      <td>M6Z</td>\n      <td></td>\n      <td>Not assigned</td>\n    </tr>\n    <tr>\n      <th>177</th>\n      <td>M7Z</td>\n      <td></td>\n      <td>Not assigned</td>\n    </tr>\n    <tr>\n      <th>178</th>\n      <td>M8Z</td>\n      <td></td>\n      <td>Etobicoke</td>\n    </tr>\n    <tr>\n      <th>179</th>\n      <td>M9Z</td>\n      <td></td>\n      <td>Not assigned</td>\n    </tr>\n  </tbody>\n</table>\n</div>",
                        "text/plain": "    PostalCode Borough Neighbourhood\n175        M5Z          Not assigned\n176        M6Z          Not assigned\n177        M7Z          Not assigned\n178        M8Z             Etobicoke\n179        M9Z          Not assigned"
                    },
                    "execution_count": 23,
                    "metadata": {},
                    "output_type": "execute_result"
                }
            ],
            "source": "df1.tail()"
        },
        {
            "cell_type": "code",
            "execution_count": 24,
            "metadata": {},
            "outputs": [
                {
                    "data": {
                        "text/plain": "(180, 3)"
                    },
                    "execution_count": 24,
                    "metadata": {},
                    "output_type": "execute_result"
                }
            ],
            "source": "df1.shape"
        },
        {
            "cell_type": "markdown",
            "metadata": {},
            "source": "### Now, let's replace 'Not assigned' neighborhoods with the name of the Borough"
        },
        {
            "cell_type": "code",
            "execution_count": 25,
            "metadata": {},
            "outputs": [],
            "source": "df1.loc[df1['Neighbourhood'] == 'Not assigned', 'Neighbourhood'] = df1['Borough']"
        },
        {
            "cell_type": "code",
            "execution_count": 26,
            "metadata": {},
            "outputs": [
                {
                    "data": {
                        "text/html": "<div>\n<style scoped>\n    .dataframe tbody tr th:only-of-type {\n        vertical-align: middle;\n    }\n\n    .dataframe tbody tr th {\n        vertical-align: top;\n    }\n\n    .dataframe thead th {\n        text-align: right;\n    }\n</style>\n<table border=\"1\" class=\"dataframe\">\n  <thead>\n    <tr style=\"text-align: right;\">\n      <th></th>\n      <th>PostalCode</th>\n      <th>Borough</th>\n      <th>Neighbourhood</th>\n    </tr>\n  </thead>\n  <tbody>\n    <tr>\n      <th>0</th>\n      <td>M1A</td>\n      <td></td>\n      <td></td>\n    </tr>\n    <tr>\n      <th>1</th>\n      <td>M2A</td>\n      <td></td>\n      <td></td>\n    </tr>\n    <tr>\n      <th>2</th>\n      <td>M3A</td>\n      <td></td>\n      <td>North York</td>\n    </tr>\n    <tr>\n      <th>3</th>\n      <td>M4A</td>\n      <td></td>\n      <td>North York</td>\n    </tr>\n    <tr>\n      <th>4</th>\n      <td>M5A</td>\n      <td></td>\n      <td>Downtown Toronto</td>\n    </tr>\n  </tbody>\n</table>\n</div>",
                        "text/plain": "  PostalCode Borough     Neighbourhood\n0        M1A                          \n1        M2A                          \n2        M3A                North York\n3        M4A                North York\n4        M5A          Downtown Toronto"
                    },
                    "execution_count": 26,
                    "metadata": {},
                    "output_type": "execute_result"
                }
            ],
            "source": "df1.head()"
        },
        {
            "cell_type": "code",
            "execution_count": 27,
            "metadata": {},
            "outputs": [
                {
                    "data": {
                        "text/plain": "(180, 3)"
                    },
                    "execution_count": 27,
                    "metadata": {},
                    "output_type": "execute_result"
                }
            ],
            "source": "df1.shape"
        },
        {
            "cell_type": "markdown",
            "metadata": {},
            "source": "### As per instructions, we will look for repeated postalcodes and consolidate into one postalcode with the name of the neighbourhoods merged"
        },
        {
            "cell_type": "code",
            "execution_count": 28,
            "metadata": {},
            "outputs": [
                {
                    "name": "stdout",
                    "output_type": "stream",
                    "text": "Unique Postalcodes : 180\nUnique Boroughs  : 1\nUnique Neighbourhoods  :11\n"
                }
            ],
            "source": "postalcodes = df1['PostalCode'].nunique()\nboroughs = df1['Borough'].nunique()\nneighbourhoods= df1['Neighbourhood'].nunique()\nprint('Unique Postalcodes : ' + str(postalcodes))\nprint('Unique Boroughs  : '+ str(boroughs))\nprint('Unique Neighbourhoods  :' + str(neighbourhoods))"
        },
        {
            "cell_type": "code",
            "execution_count": 29,
            "metadata": {},
            "outputs": [],
            "source": "#df1.groupby(['PostalCode','Borough','Neighbourhood']).size().reset_index(name='Count').head()"
        },
        {
            "cell_type": "markdown",
            "metadata": {},
            "source": "### Consolidate the dataframe to each unique PostalCodes and aggregated Neighbourhoods"
        },
        {
            "cell_type": "code",
            "execution_count": 30,
            "metadata": {},
            "outputs": [
                {
                    "data": {
                        "text/html": "<div>\n<style scoped>\n    .dataframe tbody tr th:only-of-type {\n        vertical-align: middle;\n    }\n\n    .dataframe tbody tr th {\n        vertical-align: top;\n    }\n\n    .dataframe thead th {\n        text-align: right;\n    }\n</style>\n<table border=\"1\" class=\"dataframe\">\n  <thead>\n    <tr style=\"text-align: right;\">\n      <th></th>\n      <th>PostalCode</th>\n      <th>Borough</th>\n      <th>Neighbourhood</th>\n    </tr>\n  </thead>\n  <tbody>\n    <tr>\n      <th>0</th>\n      <td>M1A</td>\n      <td></td>\n      <td></td>\n    </tr>\n    <tr>\n      <th>1</th>\n      <td>M2A</td>\n      <td></td>\n      <td></td>\n    </tr>\n    <tr>\n      <th>2</th>\n      <td>M3A</td>\n      <td></td>\n      <td>North York</td>\n    </tr>\n    <tr>\n      <th>3</th>\n      <td>M4A</td>\n      <td></td>\n      <td>North York</td>\n    </tr>\n    <tr>\n      <th>4</th>\n      <td>M5A</td>\n      <td></td>\n      <td>Downtown Toronto</td>\n    </tr>\n  </tbody>\n</table>\n</div>",
                        "text/plain": "  PostalCode Borough     Neighbourhood\n0        M1A                          \n1        M2A                          \n2        M3A                North York\n3        M4A                North York\n4        M5A          Downtown Toronto"
                    },
                    "execution_count": 30,
                    "metadata": {},
                    "output_type": "execute_result"
                }
            ],
            "source": "df1.head()"
        },
        {
            "cell_type": "code",
            "execution_count": 31,
            "metadata": {},
            "outputs": [
                {
                    "data": {
                        "text/html": "<div>\n<style scoped>\n    .dataframe tbody tr th:only-of-type {\n        vertical-align: middle;\n    }\n\n    .dataframe tbody tr th {\n        vertical-align: top;\n    }\n\n    .dataframe thead th {\n        text-align: right;\n    }\n</style>\n<table border=\"1\" class=\"dataframe\">\n  <thead>\n    <tr style=\"text-align: right;\">\n      <th></th>\n      <th>PostalCode</th>\n      <th>Borough</th>\n      <th>Neighbourhood</th>\n    </tr>\n  </thead>\n  <tbody>\n    <tr>\n      <th>0</th>\n      <td>M1A</td>\n      <td></td>\n      <td></td>\n    </tr>\n    <tr>\n      <th>1</th>\n      <td>M2A</td>\n      <td></td>\n      <td></td>\n    </tr>\n    <tr>\n      <th>2</th>\n      <td>M3A</td>\n      <td></td>\n      <td>North York</td>\n    </tr>\n    <tr>\n      <th>3</th>\n      <td>M4A</td>\n      <td></td>\n      <td>North York</td>\n    </tr>\n    <tr>\n      <th>4</th>\n      <td>M5A</td>\n      <td></td>\n      <td>Downtown Toronto</td>\n    </tr>\n  </tbody>\n</table>\n</div>",
                        "text/plain": "  PostalCode Borough     Neighbourhood\n0        M1A                          \n1        M2A                          \n2        M3A                North York\n3        M4A                North York\n4        M5A          Downtown Toronto"
                    },
                    "execution_count": 31,
                    "metadata": {},
                    "output_type": "execute_result"
                }
            ],
            "source": "df2=df1\ndf2.head()"
        },
        {
            "cell_type": "markdown",
            "metadata": {},
            "source": "### Loop Algorithm to extract the consolidate dataframe df2 with unique postalcodes"
        },
        {
            "cell_type": "code",
            "execution_count": null,
            "metadata": {},
            "outputs": [],
            "source": "n=0\n\nwhile n < nrows2 :\n    post1=df2.iloc[n,0]\n    #post1\n    m=n+1\n    post2=df2.iloc[m,0]\n    #post2\n    neigh1=df2.iloc[n,2]\n    neigh2=df2.iloc[m,2]\n    if post1==post2:\n        df2.Neighbourhood[n,2] = neigh1=neigh1+','+neigh2\n        #df2 = df2[df2.Neighbourhood != 'neigh2']\n        df2=df2.drop(df2.index[m])\n        nrows2=nrows2-1\n        df2 = df2.reset_index(drop=True)\n    else:\n        n=n+1\n\n\n#df2 = df2.reset_index(drop=True)\n# print(post1, post2, 'Nigh1 is...'+ neigh1,',,,,,,,','Nigh2 is...' + neigh2, n,m)\ndf2.index"
        },
        {
            "cell_type": "code",
            "execution_count": 32,
            "metadata": {},
            "outputs": [
                {
                    "data": {
                        "text/html": "<div>\n<style scoped>\n    .dataframe tbody tr th:only-of-type {\n        vertical-align: middle;\n    }\n\n    .dataframe tbody tr th {\n        vertical-align: top;\n    }\n\n    .dataframe thead th {\n        text-align: right;\n    }\n</style>\n<table border=\"1\" class=\"dataframe\">\n  <thead>\n    <tr style=\"text-align: right;\">\n      <th></th>\n      <th>PostalCode</th>\n      <th>Borough</th>\n      <th>Neighbourhood</th>\n    </tr>\n  </thead>\n  <tbody>\n    <tr>\n      <th>0</th>\n      <td>M1A</td>\n      <td></td>\n      <td></td>\n    </tr>\n    <tr>\n      <th>1</th>\n      <td>M2A</td>\n      <td></td>\n      <td></td>\n    </tr>\n    <tr>\n      <th>2</th>\n      <td>M3A</td>\n      <td></td>\n      <td>North York</td>\n    </tr>\n    <tr>\n      <th>3</th>\n      <td>M4A</td>\n      <td></td>\n      <td>North York</td>\n    </tr>\n    <tr>\n      <th>4</th>\n      <td>M5A</td>\n      <td></td>\n      <td>Downtown Toronto</td>\n    </tr>\n  </tbody>\n</table>\n</div>",
                        "text/plain": "  PostalCode Borough     Neighbourhood\n0        M1A                          \n1        M2A                          \n2        M3A                North York\n3        M4A                North York\n4        M5A          Downtown Toronto"
                    },
                    "execution_count": 32,
                    "metadata": {},
                    "output_type": "execute_result"
                }
            ],
            "source": "df2.head()"
        },
        {
            "cell_type": "markdown",
            "metadata": {},
            "source": "### DataFrame consolidated to unique PostalCodes and sorted by PostalCode"
        },
        {
            "cell_type": "code",
            "execution_count": 33,
            "metadata": {},
            "outputs": [
                {
                    "data": {
                        "text/html": "<div>\n<style scoped>\n    .dataframe tbody tr th:only-of-type {\n        vertical-align: middle;\n    }\n\n    .dataframe tbody tr th {\n        vertical-align: top;\n    }\n\n    .dataframe thead th {\n        text-align: right;\n    }\n</style>\n<table border=\"1\" class=\"dataframe\">\n  <thead>\n    <tr style=\"text-align: right;\">\n      <th></th>\n      <th>PostalCode</th>\n      <th>Borough</th>\n      <th>Neighbourhood</th>\n    </tr>\n  </thead>\n  <tbody>\n    <tr>\n      <th>0</th>\n      <td>M1A</td>\n      <td></td>\n      <td></td>\n    </tr>\n    <tr>\n      <th>1</th>\n      <td>M2A</td>\n      <td></td>\n      <td></td>\n    </tr>\n    <tr>\n      <th>2</th>\n      <td>M3A</td>\n      <td></td>\n      <td>North York</td>\n    </tr>\n    <tr>\n      <th>3</th>\n      <td>M4A</td>\n      <td></td>\n      <td>North York</td>\n    </tr>\n    <tr>\n      <th>4</th>\n      <td>M5A</td>\n      <td></td>\n      <td>Downtown Toronto</td>\n    </tr>\n    <tr>\n      <th>5</th>\n      <td>M6A</td>\n      <td></td>\n      <td>North York</td>\n    </tr>\n    <tr>\n      <th>6</th>\n      <td>M7A</td>\n      <td></td>\n      <td>Downtown Toronto</td>\n    </tr>\n    <tr>\n      <th>7</th>\n      <td>M8A</td>\n      <td></td>\n      <td></td>\n    </tr>\n    <tr>\n      <th>8</th>\n      <td>M9A</td>\n      <td></td>\n      <td>Etobicoke</td>\n    </tr>\n    <tr>\n      <th>9</th>\n      <td>M1B</td>\n      <td></td>\n      <td>Scarborough</td>\n    </tr>\n    <tr>\n      <th>10</th>\n      <td>M2B</td>\n      <td></td>\n      <td></td>\n    </tr>\n    <tr>\n      <th>11</th>\n      <td>M3B</td>\n      <td></td>\n      <td>North York</td>\n    </tr>\n    <tr>\n      <th>12</th>\n      <td>M4B</td>\n      <td></td>\n      <td>East York</td>\n    </tr>\n    <tr>\n      <th>13</th>\n      <td>M5B</td>\n      <td></td>\n      <td>Downtown Toronto</td>\n    </tr>\n    <tr>\n      <th>14</th>\n      <td>M6B</td>\n      <td></td>\n      <td>North York</td>\n    </tr>\n  </tbody>\n</table>\n</div>",
                        "text/plain": "   PostalCode Borough     Neighbourhood\n0         M1A                          \n1         M2A                          \n2         M3A                North York\n3         M4A                North York\n4         M5A          Downtown Toronto\n5         M6A                North York\n6         M7A          Downtown Toronto\n7         M8A                          \n8         M9A                 Etobicoke\n9         M1B               Scarborough\n10        M2B                          \n11        M3B                North York\n12        M4B                 East York\n13        M5B          Downtown Toronto\n14        M6B                North York"
                    },
                    "execution_count": 33,
                    "metadata": {},
                    "output_type": "execute_result"
                }
            ],
            "source": "df2.head(15)"
        },
        {
            "cell_type": "code",
            "execution_count": 34,
            "metadata": {},
            "outputs": [
                {
                    "data": {
                        "text/plain": "(180, 3)"
                    },
                    "execution_count": 34,
                    "metadata": {},
                    "output_type": "execute_result"
                }
            ],
            "source": "df2.shape"
        },
        {
            "cell_type": "markdown",
            "metadata": {},
            "source": "## End - PART1"
        },
        {
            "cell_type": "markdown",
            "metadata": {},
            "source": "# PART 2: Now, let's get the Latitude and Longitude coordenates for every PostalCode and add those columns to the dataframe"
        },
        {
            "cell_type": "code",
            "execution_count": 35,
            "metadata": {},
            "outputs": [],
            "source": "import json # library to handle JSON files\n\n#!conda install -c conda-forge geopy --yes # uncomment this line if you haven't completed the Foursquare API lab\nfrom geopy.geocoders import Nominatim # convert an address into latitude and longitude values"
        },
        {
            "cell_type": "code",
            "execution_count": 36,
            "metadata": {},
            "outputs": [
                {
                    "data": {
                        "text/html": "<div>\n<style scoped>\n    .dataframe tbody tr th:only-of-type {\n        vertical-align: middle;\n    }\n\n    .dataframe tbody tr th {\n        vertical-align: top;\n    }\n\n    .dataframe thead th {\n        text-align: right;\n    }\n</style>\n<table border=\"1\" class=\"dataframe\">\n  <thead>\n    <tr style=\"text-align: right;\">\n      <th></th>\n      <th>Postal Code</th>\n      <th>Latitude</th>\n      <th>Longitude</th>\n    </tr>\n  </thead>\n  <tbody>\n    <tr>\n      <th>0</th>\n      <td>M1B</td>\n      <td>43.806686</td>\n      <td>-79.194353</td>\n    </tr>\n    <tr>\n      <th>1</th>\n      <td>M1C</td>\n      <td>43.784535</td>\n      <td>-79.160497</td>\n    </tr>\n    <tr>\n      <th>2</th>\n      <td>M1E</td>\n      <td>43.763573</td>\n      <td>-79.188711</td>\n    </tr>\n    <tr>\n      <th>3</th>\n      <td>M1G</td>\n      <td>43.770992</td>\n      <td>-79.216917</td>\n    </tr>\n    <tr>\n      <th>4</th>\n      <td>M1H</td>\n      <td>43.773136</td>\n      <td>-79.239476</td>\n    </tr>\n  </tbody>\n</table>\n</div>",
                        "text/plain": "  Postal Code   Latitude  Longitude\n0         M1B  43.806686 -79.194353\n1         M1C  43.784535 -79.160497\n2         M1E  43.763573 -79.188711\n3         M1G  43.770992 -79.216917\n4         M1H  43.773136 -79.239476"
                    },
                    "execution_count": 36,
                    "metadata": {},
                    "output_type": "execute_result"
                }
            ],
            "source": "url='http://cocl.us/Geospatial_data'\ndf_pcodes=pd.read_csv(url)\ndf_pcodes.head()"
        },
        {
            "cell_type": "markdown",
            "metadata": {},
            "source": "### Need to rename the column \"Postal Code\" to \"PostalCode\" in order to do a proper merger"
        },
        {
            "cell_type": "code",
            "execution_count": 38,
            "metadata": {},
            "outputs": [
                {
                    "data": {
                        "text/html": "<div>\n<style scoped>\n    .dataframe tbody tr th:only-of-type {\n        vertical-align: middle;\n    }\n\n    .dataframe tbody tr th {\n        vertical-align: top;\n    }\n\n    .dataframe thead th {\n        text-align: right;\n    }\n</style>\n<table border=\"1\" class=\"dataframe\">\n  <thead>\n    <tr style=\"text-align: right;\">\n      <th></th>\n      <th>PostalCode</th>\n      <th>Latitude</th>\n      <th>Longitude</th>\n    </tr>\n  </thead>\n  <tbody>\n    <tr>\n      <th>0</th>\n      <td>M1B</td>\n      <td>43.806686</td>\n      <td>-79.194353</td>\n    </tr>\n    <tr>\n      <th>1</th>\n      <td>M1C</td>\n      <td>43.784535</td>\n      <td>-79.160497</td>\n    </tr>\n    <tr>\n      <th>2</th>\n      <td>M1E</td>\n      <td>43.763573</td>\n      <td>-79.188711</td>\n    </tr>\n    <tr>\n      <th>3</th>\n      <td>M1G</td>\n      <td>43.770992</td>\n      <td>-79.216917</td>\n    </tr>\n    <tr>\n      <th>4</th>\n      <td>M1H</td>\n      <td>43.773136</td>\n      <td>-79.239476</td>\n    </tr>\n  </tbody>\n</table>\n</div>",
                        "text/plain": "  PostalCode   Latitude  Longitude\n0        M1B  43.806686 -79.194353\n1        M1C  43.784535 -79.160497\n2        M1E  43.763573 -79.188711\n3        M1G  43.770992 -79.216917\n4        M1H  43.773136 -79.239476"
                    },
                    "execution_count": 38,
                    "metadata": {},
                    "output_type": "execute_result"
                }
            ],
            "source": "df_pcodes.columns = ['PostalCode', 'Latitude', 'Longitude']\ndf_pcodes.head()"
        },
        {
            "cell_type": "markdown",
            "metadata": {},
            "source": "### Sort our db2 dataframe by PostalCode, then we merge it with the df_pcodes created from the cvs file, based on common column of PostalCodes"
        },
        {
            "cell_type": "code",
            "execution_count": 39,
            "metadata": {},
            "outputs": [
                {
                    "data": {
                        "text/html": "<div>\n<style scoped>\n    .dataframe tbody tr th:only-of-type {\n        vertical-align: middle;\n    }\n\n    .dataframe tbody tr th {\n        vertical-align: top;\n    }\n\n    .dataframe thead th {\n        text-align: right;\n    }\n</style>\n<table border=\"1\" class=\"dataframe\">\n  <thead>\n    <tr style=\"text-align: right;\">\n      <th></th>\n      <th>PostalCode</th>\n      <th>Borough</th>\n      <th>Neighbourhood</th>\n    </tr>\n  </thead>\n  <tbody>\n    <tr>\n      <th>0</th>\n      <td>M1A</td>\n      <td></td>\n      <td></td>\n    </tr>\n    <tr>\n      <th>9</th>\n      <td>M1B</td>\n      <td></td>\n      <td>Scarborough</td>\n    </tr>\n    <tr>\n      <th>18</th>\n      <td>M1C</td>\n      <td></td>\n      <td>Scarborough</td>\n    </tr>\n    <tr>\n      <th>27</th>\n      <td>M1E</td>\n      <td></td>\n      <td>Scarborough</td>\n    </tr>\n    <tr>\n      <th>36</th>\n      <td>M1G</td>\n      <td></td>\n      <td>Scarborough</td>\n    </tr>\n  </tbody>\n</table>\n</div>",
                        "text/plain": "   PostalCode Borough Neighbourhood\n0         M1A                      \n9         M1B           Scarborough\n18        M1C           Scarborough\n27        M1E           Scarborough\n36        M1G           Scarborough"
                    },
                    "execution_count": 39,
                    "metadata": {},
                    "output_type": "execute_result"
                }
            ],
            "source": "df2s=df2.sort_values('PostalCode')\ndf2s.head()"
        },
        {
            "cell_type": "markdown",
            "metadata": {},
            "source": "### dataframe 'neighborhoods' contains the latitude and longitude needed to start mapping"
        },
        {
            "cell_type": "code",
            "execution_count": 42,
            "metadata": {},
            "outputs": [
                {
                    "data": {
                        "text/html": "<div>\n<style scoped>\n    .dataframe tbody tr th:only-of-type {\n        vertical-align: middle;\n    }\n\n    .dataframe tbody tr th {\n        vertical-align: top;\n    }\n\n    .dataframe thead th {\n        text-align: right;\n    }\n</style>\n<table border=\"1\" class=\"dataframe\">\n  <thead>\n    <tr style=\"text-align: right;\">\n      <th></th>\n      <th>PostalCode</th>\n      <th>Borough</th>\n      <th>Neighbourhood</th>\n      <th>Latitude</th>\n      <th>Longitude</th>\n    </tr>\n  </thead>\n  <tbody>\n    <tr>\n      <th>0</th>\n      <td>M1B</td>\n      <td></td>\n      <td>Scarborough</td>\n      <td>43.806686</td>\n      <td>-79.194353</td>\n    </tr>\n    <tr>\n      <th>1</th>\n      <td>M1C</td>\n      <td></td>\n      <td>Scarborough</td>\n      <td>43.784535</td>\n      <td>-79.160497</td>\n    </tr>\n    <tr>\n      <th>2</th>\n      <td>M1E</td>\n      <td></td>\n      <td>Scarborough</td>\n      <td>43.763573</td>\n      <td>-79.188711</td>\n    </tr>\n    <tr>\n      <th>3</th>\n      <td>M1G</td>\n      <td></td>\n      <td>Scarborough</td>\n      <td>43.770992</td>\n      <td>-79.216917</td>\n    </tr>\n    <tr>\n      <th>4</th>\n      <td>M1H</td>\n      <td></td>\n      <td>Scarborough</td>\n      <td>43.773136</td>\n      <td>-79.239476</td>\n    </tr>\n    <tr>\n      <th>5</th>\n      <td>M1J</td>\n      <td></td>\n      <td>Scarborough</td>\n      <td>43.744734</td>\n      <td>-79.239476</td>\n    </tr>\n    <tr>\n      <th>6</th>\n      <td>M1K</td>\n      <td></td>\n      <td>Scarborough</td>\n      <td>43.727929</td>\n      <td>-79.262029</td>\n    </tr>\n    <tr>\n      <th>7</th>\n      <td>M1L</td>\n      <td></td>\n      <td>Scarborough</td>\n      <td>43.711112</td>\n      <td>-79.284577</td>\n    </tr>\n    <tr>\n      <th>8</th>\n      <td>M1M</td>\n      <td></td>\n      <td>Scarborough</td>\n      <td>43.716316</td>\n      <td>-79.239476</td>\n    </tr>\n    <tr>\n      <th>9</th>\n      <td>M1N</td>\n      <td></td>\n      <td>Scarborough</td>\n      <td>43.692657</td>\n      <td>-79.264848</td>\n    </tr>\n    <tr>\n      <th>10</th>\n      <td>M1P</td>\n      <td></td>\n      <td>Scarborough</td>\n      <td>43.757410</td>\n      <td>-79.273304</td>\n    </tr>\n    <tr>\n      <th>11</th>\n      <td>M1R</td>\n      <td></td>\n      <td>Scarborough</td>\n      <td>43.750072</td>\n      <td>-79.295849</td>\n    </tr>\n    <tr>\n      <th>12</th>\n      <td>M1S</td>\n      <td></td>\n      <td>Scarborough</td>\n      <td>43.794200</td>\n      <td>-79.262029</td>\n    </tr>\n    <tr>\n      <th>13</th>\n      <td>M1T</td>\n      <td></td>\n      <td>Scarborough</td>\n      <td>43.781638</td>\n      <td>-79.304302</td>\n    </tr>\n    <tr>\n      <th>14</th>\n      <td>M1V</td>\n      <td></td>\n      <td>Scarborough</td>\n      <td>43.815252</td>\n      <td>-79.284577</td>\n    </tr>\n  </tbody>\n</table>\n</div>",
                        "text/plain": "   PostalCode Borough Neighbourhood   Latitude  Longitude\n0         M1B           Scarborough  43.806686 -79.194353\n1         M1C           Scarborough  43.784535 -79.160497\n2         M1E           Scarborough  43.763573 -79.188711\n3         M1G           Scarborough  43.770992 -79.216917\n4         M1H           Scarborough  43.773136 -79.239476\n5         M1J           Scarborough  43.744734 -79.239476\n6         M1K           Scarborough  43.727929 -79.262029\n7         M1L           Scarborough  43.711112 -79.284577\n8         M1M           Scarborough  43.716316 -79.239476\n9         M1N           Scarborough  43.692657 -79.264848\n10        M1P           Scarborough  43.757410 -79.273304\n11        M1R           Scarborough  43.750072 -79.295849\n12        M1S           Scarborough  43.794200 -79.262029\n13        M1T           Scarborough  43.781638 -79.304302\n14        M1V           Scarborough  43.815252 -79.284577"
                    },
                    "execution_count": 42,
                    "metadata": {},
                    "output_type": "execute_result"
                }
            ],
            "source": "neighborhoods=pd.merge(df2s,df_pcodes, how='right', on = 'PostalCode')\nneighborhoods.head(15)"
        },
        {
            "cell_type": "markdown",
            "metadata": {},
            "source": "## End of PART 2"
        },
        {
            "cell_type": "markdown",
            "metadata": {},
            "source": "# PART 3"
        },
        {
            "cell_type": "markdown",
            "metadata": {},
            "source": "## Explore and cluster the neighborhoods in Toronto"
        },
        {
            "cell_type": "code",
            "execution_count": 40,
            "metadata": {},
            "outputs": [
                {
                    "name": "stdout",
                    "output_type": "stream",
                    "text": "Solving environment: done\n\n## Package Plan ##\n\n  environment location: /opt/conda/envs/Python36\n\n  added / updated specs: \n    - folium=0.5.0\n\n\nThe following packages will be downloaded:\n\n    package                    |            build\n    ---------------------------|-----------------\n    certifi-2020.4.5.2         |   py36h9f0ad1d_0         152 KB  conda-forge\n    folium-0.5.0               |             py_0          45 KB  conda-forge\n    altair-4.1.0               |             py_1         614 KB  conda-forge\n    vincent-0.4.4              |             py_1          28 KB  conda-forge\n    openssl-1.1.1g             |       h516909a_0         2.1 MB  conda-forge\n    ca-certificates-2020.4.5.2 |       hecda079_0         147 KB  conda-forge\n    python_abi-3.6             |          1_cp36m           4 KB  conda-forge\n    branca-0.4.1               |             py_0          26 KB  conda-forge\n    ------------------------------------------------------------\n                                           Total:         3.1 MB\n\nThe following NEW packages will be INSTALLED:\n\n    altair:          4.1.0-py_1        conda-forge\n    branca:          0.4.1-py_0        conda-forge\n    folium:          0.5.0-py_0        conda-forge\n    python_abi:      3.6-1_cp36m       conda-forge\n    vincent:         0.4.4-py_1        conda-forge\n\nThe following packages will be UPDATED:\n\n    ca-certificates: 2020.1.1-0                    --> 2020.4.5.2-hecda079_0     conda-forge\n    certifi:         2020.4.5.1-py36_0             --> 2020.4.5.2-py36h9f0ad1d_0 conda-forge\n    openssl:         1.1.1g-h7b6447c_0             --> 1.1.1g-h516909a_0         conda-forge\n\n\nDownloading and Extracting Packages\ncertifi-2020.4.5.2   | 152 KB    | ##################################### | 100% \nfolium-0.5.0         | 45 KB     | ##################################### | 100% \naltair-4.1.0         | 614 KB    | ##################################### | 100% \nvincent-0.4.4        | 28 KB     | ##################################### | 100% \nopenssl-1.1.1g       | 2.1 MB    | ##################################### | 100% \nca-certificates-2020 | 147 KB    | ##################################### | 100% \npython_abi-3.6       | 4 KB      | ##################################### | 100% \nbranca-0.4.1         | 26 KB     | ##################################### | 100% \nPreparing transaction: done\nVerifying transaction: done\nExecuting transaction: done\nLibraries imported.\n"
                }
            ],
            "source": "import numpy as np # library to handle data in a vectorized manner\n\nimport pandas as pd # library for data analsysis\npd.set_option('display.max_columns', None)\npd.set_option('display.max_rows', None)\n\nimport json # library to handle JSON files\n\n#!conda install -c conda-forge geopy --yes # uncomment this line if you haven't completed the Foursquare API lab\nfrom geopy.geocoders import Nominatim # convert an address into latitude and longitude values\n\nimport requests # library to handle requests\nfrom pandas.io.json import json_normalize # tranform JSON file into a pandas dataframe\n\n# Matplotlib and associated plotting modules\nimport matplotlib.cm as cm\nimport matplotlib.colors as colors\n\n# import k-means from clustering stage\nfrom sklearn.cluster import KMeans\n\n!conda install -c conda-forge folium=0.5.0 --yes # uncomment this line if you haven't completed the Foursquare API lab\nimport folium # map rendering library\n\nprint('Libraries imported.')"
        },
        {
            "cell_type": "markdown",
            "metadata": {},
            "source": "### There are 38 Borough with word Toronto"
        },
        {
            "cell_type": "code",
            "execution_count": 45,
            "metadata": {},
            "outputs": [
                {
                    "data": {
                        "text/html": "<div>\n<style scoped>\n    .dataframe tbody tr th:only-of-type {\n        vertical-align: middle;\n    }\n\n    .dataframe tbody tr th {\n        vertical-align: top;\n    }\n\n    .dataframe thead th {\n        text-align: right;\n    }\n</style>\n<table border=\"1\" class=\"dataframe\">\n  <thead>\n    <tr style=\"text-align: right;\">\n      <th></th>\n      <th>PostalCode</th>\n      <th>Borough</th>\n      <th>Neighbourhood</th>\n      <th>Latitude</th>\n      <th>Longitude</th>\n    </tr>\n  </thead>\n  <tbody>\n  </tbody>\n</table>\n</div>",
                        "text/plain": "Empty DataFrame\nColumns: [PostalCode, Borough, Neighbourhood, Latitude, Longitude]\nIndex: []"
                    },
                    "execution_count": 45,
                    "metadata": {},
                    "output_type": "execute_result"
                }
            ],
            "source": "toronto_data= neighborhoods[neighborhoods['Borough'].str.contains('Toronto', na = False)].reset_index(drop=True)\ntoronto_data.head()"
        },
        {
            "cell_type": "code",
            "execution_count": 46,
            "metadata": {},
            "outputs": [
                {
                    "data": {
                        "text/plain": "(0, 5)"
                    },
                    "execution_count": 46,
                    "metadata": {},
                    "output_type": "execute_result"
                }
            ],
            "source": "toronto_data.shape"
        },
        {
            "cell_type": "markdown",
            "metadata": {},
            "source": "### From google : the latitud and longitud for Toronto, as follows: 43.6532\u00b0 N, 79.3832\u00b0 W"
        },
        {
            "cell_type": "code",
            "execution_count": 49,
            "metadata": {},
            "outputs": [],
            "source": "latitude = 43.6532\nlongitude= -79.3832"
        },
        {
            "cell_type": "markdown",
            "metadata": {},
            "source": "### Create a map of Toronto with Boroughs that cointain the word Toronto"
        },
        {
            "cell_type": "code",
            "execution_count": 51,
            "metadata": {},
            "outputs": [
                {
                    "data": {
                        "text/html": "<div style=\"width:100%;\"><div style=\"position:relative;width:100%;height:0;padding-bottom:60%;\"><span style=\"color:#565656\">Make this Notebook Trusted to load map: File -> Trust Notebook</span><iframe src=\"about:blank\" style=\"position:absolute;width:100%;height:100%;left:0;top:0;border:none !important;\" data-html=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 onload=\"this.contentDocument.open();this.contentDocument.write(atob(this.getAttribute('data-html')));this.contentDocument.close();\" allowfullscreen webkitallowfullscreen mozallowfullscreen></iframe></div></div>",
                        "text/plain": "<folium.folium.Map at 0x7efc4a8a22e8>"
                    },
                    "execution_count": 51,
                    "metadata": {},
                    "output_type": "execute_result"
                }
            ],
            "source": "# create map of TORONTO using latitude and longitude values above:\nmap_toronto = folium.Map(location=[latitude, longitude], zoom_start=11)\n\n# add markers to map\nfor lat, lng, label in zip(toronto_data['Latitude'], toronto_data['Longitude'], toronto_data['Neighbourhood']):\n    label = folium.Popup(label, parse_html=True)\n    folium.CircleMarker(\n        [lat, lng],\n        radius=5,\n        popup=label,\n        color='blue',\n        fill=True,\n        fill_color='#3186cc',\n        fill_opacity=0.7,\n        parse_html=False).add_to(map_toronto)  \n    \nmap_toronto"
        },
        {
            "cell_type": "code",
            "execution_count": 73,
            "metadata": {},
            "outputs": [],
            "source": "CLIENT_ID = 'DISWDLDS53WKKYNKQFPHEWMGR2WPZUHBYCEQIL335I1Z4WCF' # your Foursquare ID\nCLIENT_SECRET = 'KEE5XHMTGPSEY5JHRC3ME1BK5XUTQTQR5FXKKJ0H1EBMTERP' # your Foursquare Secret"
        },
        {
            "cell_type": "markdown",
            "metadata": {},
            "source": "### Create a function to repeat the same process to all the neighborhoods in Manhattan Lab example"
        },
        {
            "cell_type": "code",
            "execution_count": 75,
            "metadata": {},
            "outputs": [],
            "source": "LIMIT = 100 # limit of number of venues returned by Foursquare API\nradius = 500 # define radiu"
        },
        {
            "cell_type": "code",
            "execution_count": 77,
            "metadata": {},
            "outputs": [],
            "source": "def getNearbyVenues(names, latitudes, longitudes, radius=500):\n    \n    venues_list=[]\n    for name, lat, lng in zip(names, latitudes, longitudes):\n        print(name)\n            \n        # create the API request URL\n        url = 'https://api.foursquare.com/v2/venues/explore?&client_id={}&client_secret={}&v={}&ll={},{}&radius={}&limit={}'.format(\n            CLIENT_ID, \n            CLIENT_SECRET, \n            VERSION, \n            lat, \n            lng, \n            radius, \n            LIMIT)\n            \n        # make the GET request\n        results = requests.get(url).json()[\"response\"]['groups'][0]['items']\n        \n        # return only relevant information for each nearby venue\n        venues_list.append([(\n            name, \n            lat, \n            lng, \n            v['venue']['name'], \n            v['venue']['location']['lat'], \n            v['venue']['location']['lng'],  \n            v['venue']['categories'][0]['name']) for v in results])\n\n    nearby_venues = pd.DataFrame([item for venue_list in venues_list for item in venue_list])\n    nearby_venues.columns = ['Neighborhood', \n                  'Neighborhood Latitude', \n                  'Neighborhood Longitude', \n                  'Venue', \n                  'Venue Latitude', \n                  'Venue Longitude', \n                  'Venue Category']\n    \n    return(nearby_venues)"
        },
        {
            "cell_type": "markdown",
            "metadata": {},
            "source": "### Now write the code to run the above function on each neighborhood and create a new dataframe called toronto_venues"
        },
        {
            "cell_type": "code",
            "execution_count": null,
            "metadata": {},
            "outputs": [],
            "source": "toronto_venues = getNearbyVenues(names=toronto_data['Neighbourhood'],\n                                   latitudes=toronto_data['Latitude'],\n                                   longitudes=toronto_data['Longitude']\n                                  )"
        },
        {
            "cell_type": "code",
            "execution_count": null,
            "metadata": {},
            "outputs": [],
            "source": "print(toronto_venues.shape)\ntoronto_venues.head()"
        },
        {
            "cell_type": "code",
            "execution_count": null,
            "metadata": {},
            "outputs": [],
            "source": "toronto_venues.groupby('Neighborhood').count()"
        },
        {
            "cell_type": "code",
            "execution_count": null,
            "metadata": {},
            "outputs": [],
            "source": "print('There are {} uniques categories.'.format(len(toronto_venues['Venue Category'].unique())))"
        },
        {
            "cell_type": "code",
            "execution_count": null,
            "metadata": {},
            "outputs": [],
            "source": "# one hot encoding\ntoronto_onehot = pd.get_dummies(toronto_venues[['Venue Category']], prefix=\"\", prefix_sep=\"\")\n\n# add neighborhood column back to dataframe\ntoronto_onehot['Neighborhood'] = toronto_venues['Neighborhood'] \n\n# move neighborhood column to the first column\ncols=list(toronto_onehot.columns.values)\ncols.pop(cols.index('Neighborhood'))\ntoronto_onehot=toronto_onehot[['Neighborhood']+cols]\n\n# rename Neighborhood for Neighbourhood so that future merge works\ntoronto_onehot.rename(columns = {'Neighborhood': 'Neighbourhood'}, inplace = True)\ntoronto_onehot.head()"
        },
        {
            "cell_type": "code",
            "execution_count": null,
            "metadata": {},
            "outputs": [],
            "source": "toronto_onehot.shape"
        },
        {
            "cell_type": "code",
            "execution_count": null,
            "metadata": {},
            "outputs": [],
            "source": "toronto_grouped = toronto_onehot.groupby('Neighbourhood').mean().reset_index()\ntoronto_grouped"
        },
        {
            "cell_type": "code",
            "execution_count": null,
            "metadata": {},
            "outputs": [],
            "source": "toronto_grouped.shape"
        },
        {
            "cell_type": "markdown",
            "metadata": {},
            "source": "### Let's print each neighborhood along with the top 5 most common venues"
        },
        {
            "cell_type": "code",
            "execution_count": null,
            "metadata": {},
            "outputs": [],
            "source": "num_top_venues = 5\n\nfor hood in toronto_grouped['Neighbourhood']:\n    print(\"----\"+hood+\"----\")\n    temp = toronto_grouped[toronto_grouped['Neighbourhood'] == hood].T.reset_index()\n    temp.columns = ['venue','freq']\n    temp = temp.iloc[1:]\n    temp['freq'] = temp['freq'].astype(float)\n    temp = temp.round({'freq': 2})\n    print(temp.sort_values('freq', ascending=False).reset_index(drop=True).head(num_top_venues))\n    print('\\n')"
        },
        {
            "cell_type": "markdown",
            "metadata": {},
            "source": "### Let's put that into a pandas dataframe"
        },
        {
            "cell_type": "code",
            "execution_count": null,
            "metadata": {},
            "outputs": [],
            "source": "def return_most_common_venues(row, num_top_venues):\n    row_categories = row.iloc[1:]\n    row_categories_sorted = row_categories.sort_values(ascending=False)\n    \n    return row_categories_sorted.index.values[0:num_top_venues]"
        },
        {
            "cell_type": "code",
            "execution_count": null,
            "metadata": {},
            "outputs": [],
            "source": "num_top_venues = 10\n\nindicators = ['st', 'nd', 'rd']\n\n# create columns according to number of top venues\ncolumns = ['Neighbourhood']\nfor ind in np.arange(num_top_venues):\n    try:\n        columns.append('{}{} Most Common Venue'.format(ind+1, indicators[ind]))\n    except:\n        columns.append('{}th Most Common Venue'.format(ind+1))\n\n# create a new dataframe\nneighborhoods_venues_sorted = pd.DataFrame(columns=columns)\nneighborhoods_venues_sorted['Neighbourhood'] = toronto_grouped['Neighbourhood']\n\nfor ind in np.arange(toronto_grouped.shape[0]):\n    neighborhoods_venues_sorted.iloc[ind, 1:] = return_most_common_venues(toronto_grouped.iloc[ind, :], num_top_venues)\n\nneighborhoods_venues_sorted"
        },
        {
            "cell_type": "markdown",
            "metadata": {},
            "source": "## Cluster Neighbourhoods"
        },
        {
            "cell_type": "code",
            "execution_count": null,
            "metadata": {},
            "outputs": [],
            "source": "# set number of clusters\nkclusters = 5\n\ntoronto_grouped_clustering = toronto_grouped.drop('Neighbourhood', 1)\n\n# run k-means clustering\nkmeans = KMeans(n_clusters=kclusters, random_state=0).fit(toronto_grouped_clustering)\n\n# check cluster labels generated for each row in the dataframe\nkmeans.labels_[0:10]"
        },
        {
            "cell_type": "code",
            "execution_count": null,
            "metadata": {},
            "outputs": [],
            "source": "toronto_merged = toronto_data\n\n# add clustering labels\ntoronto_merged['Cluster Labels'] = kmeans.labels_\n\n# merge toronto_grouped with toronto_data to add latitude/longitude for each neighborhood\ntoronto_merged = toronto_merged.join(neighborhoods_venues_sorted.set_index('Neighbourhood'), on='Neighbourhood')\n\ntoronto_merged.head() # check the last columns!"
        },
        {
            "cell_type": "code",
            "execution_count": null,
            "metadata": {},
            "outputs": [],
            "source": "## Final resulting clusters visualization - Toronto Neighborhoods"
        }
    ],
    "metadata": {
        "kernelspec": {
            "display_name": "Python 3.6",
            "language": "python",
            "name": "python3"
        },
        "language_info": {
            "codemirror_mode": {
                "name": "ipython",
                "version": 3
            },
            "file_extension": ".py",
            "mimetype": "text/x-python",
            "name": "python",
            "nbconvert_exporter": "python",
            "pygments_lexer": "ipython3",
            "version": "3.6.9"
        }
    },
    "nbformat": 4,
    "nbformat_minor": 1
}